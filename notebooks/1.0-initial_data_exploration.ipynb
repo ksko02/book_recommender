{
 "cells": [
  {
   "cell_type": "markdown",
   "id": "7cccd271",
   "metadata": {},
   "source": [
    "# Initial data exploration and base preprocessing data"
   ]
  },
  {
   "cell_type": "markdown",
   "id": "afab0846",
   "metadata": {},
   "source": [
    "## Data description"
   ]
  },
  {
   "cell_type": "markdown",
   "id": "3581ae9e",
   "metadata": {},
   "source": [
    "The dataset [goodbooks-10k](https://github.com/zygmuntz/goodbooks-10k/tree/master) contains six million ratings for ten thousand most popular (with most ratings) books. \n",
    "\n",
    "#### Contents: \n",
    "\n",
    "* **ratings.csv** contains ratings go from one to five. Both book IDs and user IDs are contiguous. For books, they are 1-10000, for users, 1-53424\n",
    "    \n",
    "* **books.csv** has metadata for each book (goodreads IDs, authors, title, average rating, etc.).\n"
   ]
  },
  {
   "cell_type": "markdown",
   "id": "9af0d5c3",
   "metadata": {},
   "source": [
    "## Dataset Loading"
   ]
  },
  {
   "cell_type": "code",
   "execution_count": 1,
   "id": "e2786e46",
   "metadata": {},
   "outputs": [],
   "source": [
    "import pandas as pd\n",
    "import matplotlib.pyplot as plt\n",
    "import seaborn as sns"
   ]
  },
  {
   "cell_type": "code",
   "execution_count": 2,
   "id": "bccbed71",
   "metadata": {},
   "outputs": [],
   "source": [
    "ratings = pd.read_csv('https://raw.githubusercontent.com/zygmuntz/goodbooks-10k/master/ratings.csv')\n",
    "books = pd.read_csv('https://raw.githubusercontent.com/zygmuntz/goodbooks-10k/master/books.csv')"
   ]
  },
  {
   "cell_type": "code",
   "execution_count": 3,
   "id": "704f504d",
   "metadata": {},
   "outputs": [],
   "source": [
    "to_read = pd.read_csv('https://raw.githubusercontent.com/zygmuntz/goodbooks-10k/master/to_read.csv')"
   ]
  },
  {
   "cell_type": "markdown",
   "id": "69800fd5",
   "metadata": {},
   "source": [
    "## Initial data exploration "
   ]
  },
  {
   "cell_type": "markdown",
   "id": "39ffc296",
   "metadata": {},
   "source": [
    "### Get information about the dataset ratings.csv"
   ]
  },
  {
   "cell_type": "code",
   "execution_count": 4,
   "id": "4032448d",
   "metadata": {},
   "outputs": [
    {
     "data": {
      "text/html": [
       "<div>\n",
       "<style scoped>\n",
       "    .dataframe tbody tr th:only-of-type {\n",
       "        vertical-align: middle;\n",
       "    }\n",
       "\n",
       "    .dataframe tbody tr th {\n",
       "        vertical-align: top;\n",
       "    }\n",
       "\n",
       "    .dataframe thead th {\n",
       "        text-align: right;\n",
       "    }\n",
       "</style>\n",
       "<table border=\"1\" class=\"dataframe\">\n",
       "  <thead>\n",
       "    <tr style=\"text-align: right;\">\n",
       "      <th></th>\n",
       "      <th>user_id</th>\n",
       "      <th>book_id</th>\n",
       "      <th>rating</th>\n",
       "    </tr>\n",
       "  </thead>\n",
       "  <tbody>\n",
       "    <tr>\n",
       "      <th>0</th>\n",
       "      <td>1</td>\n",
       "      <td>258</td>\n",
       "      <td>5</td>\n",
       "    </tr>\n",
       "    <tr>\n",
       "      <th>1</th>\n",
       "      <td>2</td>\n",
       "      <td>4081</td>\n",
       "      <td>4</td>\n",
       "    </tr>\n",
       "    <tr>\n",
       "      <th>2</th>\n",
       "      <td>2</td>\n",
       "      <td>260</td>\n",
       "      <td>5</td>\n",
       "    </tr>\n",
       "    <tr>\n",
       "      <th>3</th>\n",
       "      <td>2</td>\n",
       "      <td>9296</td>\n",
       "      <td>5</td>\n",
       "    </tr>\n",
       "    <tr>\n",
       "      <th>4</th>\n",
       "      <td>2</td>\n",
       "      <td>2318</td>\n",
       "      <td>3</td>\n",
       "    </tr>\n",
       "  </tbody>\n",
       "</table>\n",
       "</div>"
      ],
      "text/plain": [
       "   user_id  book_id  rating\n",
       "0        1      258       5\n",
       "1        2     4081       4\n",
       "2        2      260       5\n",
       "3        2     9296       5\n",
       "4        2     2318       3"
      ]
     },
     "execution_count": 4,
     "metadata": {},
     "output_type": "execute_result"
    }
   ],
   "source": [
    "ratings.head()"
   ]
  },
  {
   "cell_type": "code",
   "execution_count": 5,
   "id": "33a75f3c",
   "metadata": {},
   "outputs": [
    {
     "name": "stdout",
     "output_type": "stream",
     "text": [
      "<class 'pandas.core.frame.DataFrame'>\n",
      "RangeIndex: 5976479 entries, 0 to 5976478\n",
      "Data columns (total 3 columns):\n",
      " #   Column   Dtype\n",
      "---  ------   -----\n",
      " 0   user_id  int64\n",
      " 1   book_id  int64\n",
      " 2   rating   int64\n",
      "dtypes: int64(3)\n",
      "memory usage: 136.8 MB\n"
     ]
    }
   ],
   "source": [
    "ratings.info()"
   ]
  },
  {
   "cell_type": "code",
   "execution_count": 6,
   "id": "42608c77",
   "metadata": {},
   "outputs": [
    {
     "data": {
      "text/plain": [
       "user_id    0\n",
       "book_id    0\n",
       "rating     0\n",
       "dtype: int64"
      ]
     },
     "execution_count": 6,
     "metadata": {},
     "output_type": "execute_result"
    }
   ],
   "source": [
    "ratings.isnull().sum()"
   ]
  },
  {
   "cell_type": "code",
   "execution_count": 7,
   "id": "57df7ad7",
   "metadata": {},
   "outputs": [
    {
     "data": {
      "text/plain": [
       "12874    200\n",
       "30944    200\n",
       "52036    199\n",
       "12381    199\n",
       "28158    199\n",
       "        ... \n",
       "32128     21\n",
       "40753     21\n",
       "51725     21\n",
       "43675     20\n",
       "34590     19\n",
       "Name: user_id, Length: 53424, dtype: int64"
      ]
     },
     "execution_count": 7,
     "metadata": {},
     "output_type": "execute_result"
    }
   ],
   "source": [
    "# How much ratings the users have\n",
    "\n",
    "ratings['user_id'].value_counts()"
   ]
  },
  {
   "cell_type": "code",
   "execution_count": 8,
   "id": "272f8eb8",
   "metadata": {},
   "outputs": [
    {
     "data": {
      "text/plain": [
       "111.86880428271938"
      ]
     },
     "execution_count": 8,
     "metadata": {},
     "output_type": "execute_result"
    }
   ],
   "source": [
    "# Average number of ratings per user\n",
    "\n",
    "sum(ratings['user_id'].value_counts()) / len(ratings['user_id'].unique())"
   ]
  },
  {
   "cell_type": "code",
   "execution_count": 9,
   "id": "ebadad9b",
   "metadata": {},
   "outputs": [
    {
     "data": {
      "text/plain": [
       "1       22806\n",
       "2       21850\n",
       "4       19088\n",
       "3       16931\n",
       "5       16604\n",
       "        ...  \n",
       "9315       36\n",
       "1935       33\n",
       "9486       24\n",
       "9345       11\n",
       "7803        8\n",
       "Name: book_id, Length: 10000, dtype: int64"
      ]
     },
     "execution_count": 9,
     "metadata": {},
     "output_type": "execute_result"
    }
   ],
   "source": [
    "# How much ratings the books have\n",
    "\n",
    "ratings['book_id'].value_counts()"
   ]
  },
  {
   "cell_type": "code",
   "execution_count": 10,
   "id": "ba790e3f",
   "metadata": {},
   "outputs": [
    {
     "data": {
      "image/png": "[encoded data removed]",
      "text/plain": [
       "<Figure size 800x500 with 1 Axes>"
      ]
     },
     "metadata": {},
     "output_type": "display_data"
    }
   ],
   "source": [
    "# Distribution of ratings\n",
    "\n",
    "plt.figure(figsize=(8,5))\n",
    "plt.hist(x=ratings['rating'], bins=5, rwidth=0.8)\n",
    "plt.xlabel('Rating')\n",
    "plt.ylabel('Number of ratings')\n",
    "plt.title('Distribution of ratings')\n",
    "plt.show()"
   ]
  },
  {
   "cell_type": "markdown",
   "id": "47a3d5dd",
   "metadata": {},
   "source": [
    "**Insights from the data:**\n",
    "1. Data is cleaned\n",
    "2. Each user has rated from 8 to 200 books\n",
    "3. In average, each user rated 112 books (good amount)\n",
    "4. Books have different number of ratings (from 8 to 22806)\n",
    "5. Most of the ratings are high-valued (4 or 5 grade)"
   ]
  },
  {
   "cell_type": "markdown",
   "id": "837230e5",
   "metadata": {},
   "source": [
    "### Get information about the books.csv"
   ]
  },
  {
   "cell_type": "code",
   "execution_count": 11,
   "id": "0f1562cd",
   "metadata": {},
   "outputs": [
    {
     "data": {
      "text/html": [
       "<div>\n",
       "<style scoped>\n",
       "    .dataframe tbody tr th:only-of-type {\n",
       "        vertical-align: middle;\n",
       "    }\n",
       "\n",
       "    .dataframe tbody tr th {\n",
       "        vertical-align: top;\n",
       "    }\n",
       "\n",
       "    .dataframe thead th {\n",
       "        text-align: right;\n",
       "    }\n",
       "</style>\n",
       "<table border=\"1\" class=\"dataframe\">\n",
       "  <thead>\n",
       "    <tr style=\"text-align: right;\">\n",
       "      <th></th>\n",
       "      <th>book_id</th>\n",
       "      <th>goodreads_book_id</th>\n",
       "      <th>best_book_id</th>\n",
       "      <th>work_id</th>\n",
       "      <th>books_count</th>\n",
       "      <th>isbn</th>\n",
       "      <th>isbn13</th>\n",
       "      <th>authors</th>\n",
       "      <th>original_publication_year</th>\n",
       "      <th>original_title</th>\n",
       "      <th>...</th>\n",
       "      <th>ratings_count</th>\n",
       "      <th>work_ratings_count</th>\n",
       "      <th>work_text_reviews_count</th>\n",
       "      <th>ratings_1</th>\n",
       "      <th>ratings_2</th>\n",
       "      <th>ratings_3</th>\n",
       "      <th>ratings_4</th>\n",
       "      <th>ratings_5</th>\n",
       "      <th>image_url</th>\n",
       "      <th>small_image_url</th>\n",
       "    </tr>\n",
       "  </thead>\n",
       "  <tbody>\n",
       "    <tr>\n",
       "      <th>0</th>\n",
       "      <td>1</td>\n",
       "      <td>2767052</td>\n",
       "      <td>2767052</td>\n",
       "      <td>2792775</td>\n",
       "      <td>272</td>\n",
       "      <td>439023483</td>\n",
       "      <td>9.780439e+12</td>\n",
       "      <td>Suzanne Collins</td>\n",
       "      <td>2008.0</td>\n",
       "      <td>The Hunger Games</td>\n",
       "      <td>...</td>\n",
       "      <td>4780653</td>\n",
       "      <td>4942365</td>\n",
       "      <td>155254</td>\n",
       "      <td>66715</td>\n",
       "      <td>127936</td>\n",
       "      <td>560092</td>\n",
       "      <td>1481305</td>\n",
       "      <td>2706317</td>\n",
       "      <td>https://images.gr-assets.com/books/1447303603m...</td>\n",
       "      <td>https://images.gr-assets.com/books/1447303603s...</td>\n",
       "    </tr>\n",
       "    <tr>\n",
       "      <th>1</th>\n",
       "      <td>2</td>\n",
       "      <td>3</td>\n",
       "      <td>3</td>\n",
       "      <td>4640799</td>\n",
       "      <td>491</td>\n",
       "      <td>439554934</td>\n",
       "      <td>9.780440e+12</td>\n",
       "      <td>J.K. Rowling, Mary GrandPré</td>\n",
       "      <td>1997.0</td>\n",
       "      <td>Harry Potter and the Philosopher's Stone</td>\n",
       "      <td>...</td>\n",
       "      <td>4602479</td>\n",
       "      <td>4800065</td>\n",
       "      <td>75867</td>\n",
       "      <td>75504</td>\n",
       "      <td>101676</td>\n",
       "      <td>455024</td>\n",
       "      <td>1156318</td>\n",
       "      <td>3011543</td>\n",
       "      <td>https://images.gr-assets.com/books/1474154022m...</td>\n",
       "      <td>https://images.gr-assets.com/books/1474154022s...</td>\n",
       "    </tr>\n",
       "    <tr>\n",
       "      <th>2</th>\n",
       "      <td>3</td>\n",
       "      <td>41865</td>\n",
       "      <td>41865</td>\n",
       "      <td>3212258</td>\n",
       "      <td>226</td>\n",
       "      <td>316015849</td>\n",
       "      <td>9.780316e+12</td>\n",
       "      <td>Stephenie Meyer</td>\n",
       "      <td>2005.0</td>\n",
       "      <td>Twilight</td>\n",
       "      <td>...</td>\n",
       "      <td>3866839</td>\n",
       "      <td>3916824</td>\n",
       "      <td>95009</td>\n",
       "      <td>456191</td>\n",
       "      <td>436802</td>\n",
       "      <td>793319</td>\n",
       "      <td>875073</td>\n",
       "      <td>1355439</td>\n",
       "      <td>https://images.gr-assets.com/books/1361039443m...</td>\n",
       "      <td>https://images.gr-assets.com/books/1361039443s...</td>\n",
       "    </tr>\n",
       "    <tr>\n",
       "      <th>3</th>\n",
       "      <td>4</td>\n",
       "      <td>2657</td>\n",
       "      <td>2657</td>\n",
       "      <td>3275794</td>\n",
       "      <td>487</td>\n",
       "      <td>61120081</td>\n",
       "      <td>9.780061e+12</td>\n",
       "      <td>Harper Lee</td>\n",
       "      <td>1960.0</td>\n",
       "      <td>To Kill a Mockingbird</td>\n",
       "      <td>...</td>\n",
       "      <td>3198671</td>\n",
       "      <td>3340896</td>\n",
       "      <td>72586</td>\n",
       "      <td>60427</td>\n",
       "      <td>117415</td>\n",
       "      <td>446835</td>\n",
       "      <td>1001952</td>\n",
       "      <td>1714267</td>\n",
       "      <td>https://images.gr-assets.com/books/1361975680m...</td>\n",
       "      <td>https://images.gr-assets.com/books/1361975680s...</td>\n",
       "    </tr>\n",
       "    <tr>\n",
       "      <th>4</th>\n",
       "      <td>5</td>\n",
       "      <td>4671</td>\n",
       "      <td>4671</td>\n",
       "      <td>245494</td>\n",
       "      <td>1356</td>\n",
       "      <td>743273567</td>\n",
       "      <td>9.780743e+12</td>\n",
       "      <td>F. Scott Fitzgerald</td>\n",
       "      <td>1925.0</td>\n",
       "      <td>The Great Gatsby</td>\n",
       "      <td>...</td>\n",
       "      <td>2683664</td>\n",
       "      <td>2773745</td>\n",
       "      <td>51992</td>\n",
       "      <td>86236</td>\n",
       "      <td>197621</td>\n",
       "      <td>606158</td>\n",
       "      <td>936012</td>\n",
       "      <td>947718</td>\n",
       "      <td>https://images.gr-assets.com/books/1490528560m...</td>\n",
       "      <td>https://images.gr-assets.com/books/1490528560s...</td>\n",
       "    </tr>\n",
       "  </tbody>\n",
       "</table>\n",
       "<p>5 rows × 23 columns</p>\n",
       "</div>"
      ],
      "text/plain": [
       "   book_id  goodreads_book_id  best_book_id  work_id  books_count       isbn  \\\n",
       "0        1            2767052       2767052  2792775          272  439023483   \n",
       "1        2                  3             3  4640799          491  439554934   \n",
       "2        3              41865         41865  3212258          226  316015849   \n",
       "3        4               2657          2657  3275794          487   61120081   \n",
       "4        5               4671          4671   245494         1356  743273567   \n",
       "\n",
       "         isbn13                      authors  original_publication_year  \\\n",
       "0  9.780439e+12              Suzanne Collins                     2008.0   \n",
       "1  9.780440e+12  J.K. Rowling, Mary GrandPré                     1997.0   \n",
       "2  9.780316e+12              Stephenie Meyer                     2005.0   \n",
       "3  9.780061e+12                   Harper Lee                     1960.0   \n",
       "4  9.780743e+12          F. Scott Fitzgerald                     1925.0   \n",
       "\n",
       "                             original_title  ... ratings_count  \\\n",
       "0                          The Hunger Games  ...       4780653   \n",
       "1  Harry Potter and the Philosopher's Stone  ...       4602479   \n",
       "2                                  Twilight  ...       3866839   \n",
       "3                     To Kill a Mockingbird  ...       3198671   \n",
       "4                          The Great Gatsby  ...       2683664   \n",
       "\n",
       "  work_ratings_count  work_text_reviews_count  ratings_1  ratings_2  \\\n",
       "0            4942365                   155254      66715     127936   \n",
       "1            4800065                    75867      75504     101676   \n",
       "2            3916824                    95009     456191     436802   \n",
       "3            3340896                    72586      60427     117415   \n",
       "4            2773745                    51992      86236     197621   \n",
       "\n",
       "   ratings_3  ratings_4  ratings_5  \\\n",
       "0     560092    1481305    2706317   \n",
       "1     455024    1156318    3011543   \n",
       "2     793319     875073    1355439   \n",
       "3     446835    1001952    1714267   \n",
       "4     606158     936012     947718   \n",
       "\n",
       "                                           image_url  \\\n",
       "0  https://images.gr-assets.com/books/1447303603m...   \n",
       "1  https://images.gr-assets.com/books/1474154022m...   \n",
       "2  https://images.gr-assets.com/books/1361039443m...   \n",
       "3  https://images.gr-assets.com/books/1361975680m...   \n",
       "4  https://images.gr-assets.com/books/1490528560m...   \n",
       "\n",
       "                                     small_image_url  \n",
       "0  https://images.gr-assets.com/books/1447303603s...  \n",
       "1  https://images.gr-assets.com/books/1474154022s...  \n",
       "2  https://images.gr-assets.com/books/1361039443s...  \n",
       "3  https://images.gr-assets.com/books/1361975680s...  \n",
       "4  https://images.gr-assets.com/books/1490528560s...  \n",
       "\n",
       "[5 rows x 23 columns]"
      ]
     },
     "execution_count": 11,
     "metadata": {},
     "output_type": "execute_result"
    }
   ],
   "source": [
    "books.head()"
   ]
  },
  {
   "cell_type": "code",
   "execution_count": 12,
   "id": "483c518b",
   "metadata": {},
   "outputs": [
    {
     "name": "stdout",
     "output_type": "stream",
     "text": [
      "<class 'pandas.core.frame.DataFrame'>\n",
      "RangeIndex: 10000 entries, 0 to 9999\n",
      "Data columns (total 23 columns):\n",
      " #   Column                     Non-Null Count  Dtype  \n",
      "---  ------                     --------------  -----  \n",
      " 0   book_id                    10000 non-null  int64  \n",
      " 1   goodreads_book_id          10000 non-null  int64  \n",
      " 2   best_book_id               10000 non-null  int64  \n",
      " 3   work_id                    10000 non-null  int64  \n",
      " 4   books_count                10000 non-null  int64  \n",
      " 5   isbn                       9300 non-null   object \n",
      " 6   isbn13                     9415 non-null   float64\n",
      " 7   authors                    10000 non-null  object \n",
      " 8   original_publication_year  9979 non-null   float64\n",
      " 9   original_title             9415 non-null   object \n",
      " 10  title                      10000 non-null  object \n",
      " 11  language_code              8916 non-null   object \n",
      " 12  average_rating             10000 non-null  float64\n",
      " 13  ratings_count              10000 non-null  int64  \n",
      " 14  work_ratings_count         10000 non-null  int64  \n",
      " 15  work_text_reviews_count    10000 non-null  int64  \n",
      " 16  ratings_1                  10000 non-null  int64  \n",
      " 17  ratings_2                  10000 non-null  int64  \n",
      " 18  ratings_3                  10000 non-null  int64  \n",
      " 19  ratings_4                  10000 non-null  int64  \n",
      " 20  ratings_5                  10000 non-null  int64  \n",
      " 21  image_url                  10000 non-null  object \n",
      " 22  small_image_url            10000 non-null  object \n",
      "dtypes: float64(3), int64(13), object(7)\n",
      "memory usage: 1.8+ MB\n"
     ]
    }
   ],
   "source": [
    "books.info()"
   ]
  },
  {
   "cell_type": "code",
   "execution_count": 13,
   "id": "edae962e",
   "metadata": {},
   "outputs": [
    {
     "data": {
      "text/plain": [
       "book_id                         0\n",
       "goodreads_book_id               0\n",
       "best_book_id                    0\n",
       "work_id                         0\n",
       "books_count                     0\n",
       "isbn                          700\n",
       "isbn13                        585\n",
       "authors                         0\n",
       "original_publication_year      21\n",
       "original_title                585\n",
       "title                           0\n",
       "language_code                1084\n",
       "average_rating                  0\n",
       "ratings_count                   0\n",
       "work_ratings_count              0\n",
       "work_text_reviews_count         0\n",
       "ratings_1                       0\n",
       "ratings_2                       0\n",
       "ratings_3                       0\n",
       "ratings_4                       0\n",
       "ratings_5                       0\n",
       "image_url                       0\n",
       "small_image_url                 0\n",
       "dtype: int64"
      ]
     },
     "execution_count": 13,
     "metadata": {},
     "output_type": "execute_result"
    }
   ],
   "source": [
    "books.isnull().sum()"
   ]
  },
  {
   "cell_type": "code",
   "execution_count": 43,
   "id": "b0eb3de6",
   "metadata": {},
   "outputs": [
    {
     "data": {
      "text/plain": [
       "Stephen King       60\n",
       "Nora Roberts       59\n",
       "Dean Koontz        47\n",
       "Terry Pratchett    42\n",
       "Agatha Christie    39\n",
       "Meg Cabot          37\n",
       "James Patterson    36\n",
       "David Baldacci     34\n",
       "J.D. Robb          33\n",
       "John Grisham       33\n",
       "Name: authors, dtype: int64"
      ]
     },
     "execution_count": 43,
     "metadata": {},
     "output_type": "execute_result"
    }
   ],
   "source": [
    "# The number of books of each author\n",
    "\n",
    "books['authors'].value_counts().head(10)"
   ]
  },
  {
   "cell_type": "code",
   "execution_count": 19,
   "id": "efd79637",
   "metadata": {},
   "outputs": [
    {
     "data": {
      "text/plain": [
       "Ildefonso Falcones                                                                                                                                                                                                                        1\n",
       "Jon Stewart, Rory Albanese, Kevin Bleyer, Rich Bloomquist, Steve Bodow, Tim Carvell, Wyatt Cenac, Hallie Haglund, J.R. Havlan, David Javerbaum, Elliott Kalan, Josh Lieb, Sam Means, Jo Miller, John Oliver, Daniel Radosh, Jason Ross    1\n",
       "G. Norman Lippert                                                                                                                                                                                                                         1\n",
       "Brother Andrew, Elizabeth Sherrill, John Sherrill                                                                                                                                                                                         1\n",
       "John Keegan                                                                                                                                                                                                                               1\n",
       "Name: authors, dtype: int64"
      ]
     },
     "execution_count": 19,
     "metadata": {},
     "output_type": "execute_result"
    }
   ],
   "source": [
    "books['authors'].value_counts().tail(5)"
   ]
  },
  {
   "cell_type": "code",
   "execution_count": 44,
   "id": "51249fa4",
   "metadata": {},
   "outputs": [
    {
     "data": {
      "text/plain": [
       "487                                        The Green Mile\n",
       "5948           The Green Mile, Part 1: The Two Dead Girls\n",
       "8370    The Green Mile, Part 4: The Bad Death of Eduar...\n",
       "8828        The Green Mile, Part 2: The Mouse on the Mile\n",
       "9146               The Green Mile, Part 3: Coffey's Hands\n",
       "9359           The Green Mile, Part 6: Coffey on the Mile\n",
       "9922                The Green Mile, Part 5: Night Journey\n",
       "Name: title, dtype: object"
      ]
     },
     "execution_count": 44,
     "metadata": {},
     "output_type": "execute_result"
    }
   ],
   "source": [
    "# How many times we can meet the same book in the data\n",
    "\n",
    "books[books['title'].str.contains('Green Mile')]['title']"
   ]
  },
  {
   "cell_type": "code",
   "execution_count": 35,
   "id": "d76fe98d",
   "metadata": {},
   "outputs": [
    {
     "data": {
      "text/plain": [
       "0                 The Hunger Games (The Hunger Games, #1)\n",
       "16                   Catching Fire (The Hunger Games, #2)\n",
       "19                      Mockingjay (The Hunger Games, #3)\n",
       "506     The Hunger Games Trilogy Boxset (The Hunger Ga...\n",
       "716     The Hunger Games: Official Illustrated Movie C...\n",
       "1354                       The Hunger Games Tribute Guide\n",
       "6223    The World of the Hunger Games (Hunger Games Tr...\n",
       "8576    The Girl Who Was on Fire: Your Favorite Author...\n",
       "Name: title, dtype: object"
      ]
     },
     "execution_count": 35,
     "metadata": {},
     "output_type": "execute_result"
    }
   ],
   "source": [
    "books[books['title'].str.contains('Hunger Games')]['title']"
   ]
  },
  {
   "cell_type": "markdown",
   "id": "bbef395b",
   "metadata": {},
   "source": [
    "**Insights from the books.csv:**\n",
    "1. The data is mainly cleaned. Some books do not have original publication year.\n",
    "2. There are authors with a large number of books in the dataset (max is 60 by Stephen King). \n",
    "3. There can be multiple entries of some books. For example, the green mile has 7 entries: the full books and 6 books representing each part of the books. Some book series as Harry Potter or the Hunger games have \"boxset\" entry with all books parts.\n",
    "\n",
    "The point 2 and 3 can affect the work of the content-based model because the model will recommend the most similar books and may produce recommendations with only one author or already read books in other samples (as with green mile).\n",
    "\n",
    "Further we will work with book_id, author', original_publication_year, title, average_rating, and image_url columns."
   ]
  },
  {
   "cell_type": "markdown",
   "id": "a4043709",
   "metadata": {},
   "source": [
    "### Get information about to_read.csv"
   ]
  },
  {
   "cell_type": "code",
   "execution_count": 36,
   "id": "f168bce6",
   "metadata": {},
   "outputs": [
    {
     "data": {
      "text/html": [
       "<div>\n",
       "<style scoped>\n",
       "    .dataframe tbody tr th:only-of-type {\n",
       "        vertical-align: middle;\n",
       "    }\n",
       "\n",
       "    .dataframe tbody tr th {\n",
       "        vertical-align: top;\n",
       "    }\n",
       "\n",
       "    .dataframe thead th {\n",
       "        text-align: right;\n",
       "    }\n",
       "</style>\n",
       "<table border=\"1\" class=\"dataframe\">\n",
       "  <thead>\n",
       "    <tr style=\"text-align: right;\">\n",
       "      <th></th>\n",
       "      <th>user_id</th>\n",
       "      <th>book_id</th>\n",
       "    </tr>\n",
       "  </thead>\n",
       "  <tbody>\n",
       "    <tr>\n",
       "      <th>0</th>\n",
       "      <td>9</td>\n",
       "      <td>8</td>\n",
       "    </tr>\n",
       "    <tr>\n",
       "      <th>1</th>\n",
       "      <td>15</td>\n",
       "      <td>398</td>\n",
       "    </tr>\n",
       "    <tr>\n",
       "      <th>2</th>\n",
       "      <td>15</td>\n",
       "      <td>275</td>\n",
       "    </tr>\n",
       "    <tr>\n",
       "      <th>3</th>\n",
       "      <td>37</td>\n",
       "      <td>7173</td>\n",
       "    </tr>\n",
       "    <tr>\n",
       "      <th>4</th>\n",
       "      <td>34</td>\n",
       "      <td>380</td>\n",
       "    </tr>\n",
       "  </tbody>\n",
       "</table>\n",
       "</div>"
      ],
      "text/plain": [
       "   user_id  book_id\n",
       "0        9        8\n",
       "1       15      398\n",
       "2       15      275\n",
       "3       37     7173\n",
       "4       34      380"
      ]
     },
     "execution_count": 36,
     "metadata": {},
     "output_type": "execute_result"
    }
   ],
   "source": [
    "to_read.head()"
   ]
  },
  {
   "cell_type": "code",
   "execution_count": 42,
   "id": "cda5050e",
   "metadata": {},
   "outputs": [
    {
     "data": {
      "text/plain": [
       "38457    117\n",
       "28259    114\n",
       "38076    110\n",
       "44530    108\n",
       "46555    107\n",
       "        ... \n",
       "49559      1\n",
       "49768      1\n",
       "3645       1\n",
       "41692      1\n",
       "21682      1\n",
       "Name: user_id, Length: 48871, dtype: int64"
      ]
     },
     "execution_count": 42,
     "metadata": {},
     "output_type": "execute_result"
    }
   ],
   "source": [
    "# Number of books marked by users\n",
    "\n",
    "to_read['user_id'].value_counts()"
   ]
  },
  {
   "cell_type": "code",
   "execution_count": 40,
   "id": "9c79674a",
   "metadata": {},
   "outputs": [
    {
     "data": {
      "text/plain": [
       "48871"
      ]
     },
     "execution_count": 40,
     "metadata": {},
     "output_type": "execute_result"
    }
   ],
   "source": [
    "# Number of users in the data\n",
    "\n",
    "len(to_read['user_id'].unique())"
   ]
  },
  {
   "cell_type": "code",
   "execution_count": 41,
   "id": "7991308a",
   "metadata": {},
   "outputs": [
    {
     "data": {
      "text/plain": [
       "18.675799553927686"
      ]
     },
     "execution_count": 41,
     "metadata": {},
     "output_type": "execute_result"
    }
   ],
   "source": [
    "# Average number of marked books per user\n",
    "\n",
    "sum(to_read['user_id'].value_counts()) / len(to_read['user_id'].unique())"
   ]
  },
  {
   "cell_type": "markdown",
   "id": "626a5459",
   "metadata": {},
   "source": [
    "**Insights from the to_read.csv:**\n",
    "\n",
    "The data from to_read.csv can be used to evaluate the precision@k and recall@k metrics. However,\n",
    "\n",
    "1. Each user has different number of books marked with \"to read\". The average amount of such books is 19.\n",
    "2. More than 5000 users have not marked any book.\n",
    "3. The range of estimates is quite large (from 1 to 117). This means that for people with a large number of marked books, it will be difficult to evaluate a good recall, and for people with a small number of marked books, the recall will vary greatly in value.\n",
    "\n",
    "It was decided not to use this data to evaluate the models."
   ]
  },
  {
   "cell_type": "markdown",
   "id": "983d4660",
   "metadata": {},
   "source": [
    "## Preprocessing data"
   ]
  },
  {
   "cell_type": "code",
   "execution_count": 45,
   "id": "d8aaa96a",
   "metadata": {},
   "outputs": [
    {
     "data": {
      "text/html": [
       "<div>\n",
       "<style scoped>\n",
       "    .dataframe tbody tr th:only-of-type {\n",
       "        vertical-align: middle;\n",
       "    }\n",
       "\n",
       "    .dataframe tbody tr th {\n",
       "        vertical-align: top;\n",
       "    }\n",
       "\n",
       "    .dataframe thead th {\n",
       "        text-align: right;\n",
       "    }\n",
       "</style>\n",
       "<table border=\"1\" class=\"dataframe\">\n",
       "  <thead>\n",
       "    <tr style=\"text-align: right;\">\n",
       "      <th></th>\n",
       "      <th>book_id</th>\n",
       "      <th>authors</th>\n",
       "      <th>original_publication_year</th>\n",
       "      <th>title</th>\n",
       "      <th>average_rating</th>\n",
       "      <th>image_url</th>\n",
       "    </tr>\n",
       "  </thead>\n",
       "  <tbody>\n",
       "    <tr>\n",
       "      <th>0</th>\n",
       "      <td>1</td>\n",
       "      <td>Suzanne Collins</td>\n",
       "      <td>2008.0</td>\n",
       "      <td>The Hunger Games (The Hunger Games, #1)</td>\n",
       "      <td>4.34</td>\n",
       "      <td>https://images.gr-assets.com/books/1447303603m...</td>\n",
       "    </tr>\n",
       "    <tr>\n",
       "      <th>1</th>\n",
       "      <td>2</td>\n",
       "      <td>J.K. Rowling, Mary GrandPré</td>\n",
       "      <td>1997.0</td>\n",
       "      <td>Harry Potter and the Sorcerer's Stone (Harry P...</td>\n",
       "      <td>4.44</td>\n",
       "      <td>https://images.gr-assets.com/books/1474154022m...</td>\n",
       "    </tr>\n",
       "    <tr>\n",
       "      <th>2</th>\n",
       "      <td>3</td>\n",
       "      <td>Stephenie Meyer</td>\n",
       "      <td>2005.0</td>\n",
       "      <td>Twilight (Twilight, #1)</td>\n",
       "      <td>3.57</td>\n",
       "      <td>https://images.gr-assets.com/books/1361039443m...</td>\n",
       "    </tr>\n",
       "    <tr>\n",
       "      <th>3</th>\n",
       "      <td>4</td>\n",
       "      <td>Harper Lee</td>\n",
       "      <td>1960.0</td>\n",
       "      <td>To Kill a Mockingbird</td>\n",
       "      <td>4.25</td>\n",
       "      <td>https://images.gr-assets.com/books/1361975680m...</td>\n",
       "    </tr>\n",
       "    <tr>\n",
       "      <th>4</th>\n",
       "      <td>5</td>\n",
       "      <td>F. Scott Fitzgerald</td>\n",
       "      <td>1925.0</td>\n",
       "      <td>The Great Gatsby</td>\n",
       "      <td>3.89</td>\n",
       "      <td>https://images.gr-assets.com/books/1490528560m...</td>\n",
       "    </tr>\n",
       "  </tbody>\n",
       "</table>\n",
       "</div>"
      ],
      "text/plain": [
       "   book_id                      authors  original_publication_year  \\\n",
       "0        1              Suzanne Collins                     2008.0   \n",
       "1        2  J.K. Rowling, Mary GrandPré                     1997.0   \n",
       "2        3              Stephenie Meyer                     2005.0   \n",
       "3        4                   Harper Lee                     1960.0   \n",
       "4        5          F. Scott Fitzgerald                     1925.0   \n",
       "\n",
       "                                               title  average_rating  \\\n",
       "0            The Hunger Games (The Hunger Games, #1)            4.34   \n",
       "1  Harry Potter and the Sorcerer's Stone (Harry P...            4.44   \n",
       "2                            Twilight (Twilight, #1)            3.57   \n",
       "3                              To Kill a Mockingbird            4.25   \n",
       "4                                   The Great Gatsby            3.89   \n",
       "\n",
       "                                           image_url  \n",
       "0  https://images.gr-assets.com/books/1447303603m...  \n",
       "1  https://images.gr-assets.com/books/1474154022m...  \n",
       "2  https://images.gr-assets.com/books/1361039443m...  \n",
       "3  https://images.gr-assets.com/books/1361975680m...  \n",
       "4  https://images.gr-assets.com/books/1490528560m...  "
      ]
     },
     "execution_count": 45,
     "metadata": {},
     "output_type": "execute_result"
    }
   ],
   "source": [
    "# Select the necessary columns\n",
    "books_information = books[['book_id', 'authors', 'original_publication_year', 'title', 'average_rating', 'image_url']]\n",
    "\n",
    "books_information.head()"
   ]
  },
  {
   "cell_type": "code",
   "execution_count": 46,
   "id": "9001ecb6",
   "metadata": {},
   "outputs": [],
   "source": [
    "from sklearn.model_selection import train_test_split\n",
    "\n",
    "# Split the data into training and testing sets\n",
    "train, test = train_test_split(ratings, test_size=0.2, random_state=42)"
   ]
  },
  {
   "cell_type": "markdown",
   "id": "822b74fc",
   "metadata": {},
   "source": [
    "## Save datasets"
   ]
  },
  {
   "cell_type": "code",
   "execution_count": 50,
   "id": "a8db61a6",
   "metadata": {},
   "outputs": [],
   "source": [
    "train.to_csv('../data/interim/train.csv', index=False)\n",
    "test.to_csv('../data/interim/test.csv', index=False)"
   ]
  },
  {
   "cell_type": "code",
   "execution_count": 51,
   "id": "843f0c18",
   "metadata": {},
   "outputs": [],
   "source": [
    "books_information.to_csv('../data/interim/books_information.csv', index=False)"
   ]
  }
 ],
 "metadata": {
  "kernelspec": {
   "display_name": "Python 3 (ipykernel)",
   "language": "python",
   "name": "python3"
  },
  "language_info": {
   "codemirror_mode": {
    "name": "ipython",
    "version": 3
   },
   "file_extension": ".py",
   "mimetype": "text/x-python",
   "name": "python",
   "nbconvert_exporter": "python",
   "pygments_lexer": "ipython3",
   "version": "3.9.2"
  }
 },
 "nbformat": 4,
 "nbformat_minor": 5
}
