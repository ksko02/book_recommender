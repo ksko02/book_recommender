{
 "cells": [
  {
   "cell_type": "markdown",
   "metadata": {
    "id": "RiZKmJuFZHp8"
   },
   "source": [
    "# User-Based Book Recommendation System "
   ]
  },
  {
   "cell_type": "markdown",
   "metadata": {
    "id": "OkmdSONXZK0Q"
   },
   "source": [
    "This notebook presents a User-Based book recommendation system using Keras, which is using collaborative filtering. The solution is presented as a model that uses embeddings to represent users and books in a low dimensional space, and then combines these embeddings and runs them through a neural network to predict books."
   ]
  },
  {
   "cell_type": "markdown",
   "metadata": {
    "id": "N0Cy_lrXDg8s"
   },
   "source": [
    "## Data Loading"
   ]
  },
  {
   "cell_type": "code",
   "execution_count": 1,
   "metadata": {
    "colab": {
     "base_uri": "https://localhost:8080/",
     "height": 206
    },
    "id": "kUy-kiQ2_qMg",
    "outputId": "b723b80b-5fdb-400c-8aeb-d3869cf47ce8"
   },
   "outputs": [
    {
     "data": {
      "text/html": [
       "<div>\n",
       "<style scoped>\n",
       "    .dataframe tbody tr th:only-of-type {\n",
       "        vertical-align: middle;\n",
       "    }\n",
       "\n",
       "    .dataframe tbody tr th {\n",
       "        vertical-align: top;\n",
       "    }\n",
       "\n",
       "    .dataframe thead th {\n",
       "        text-align: right;\n",
       "    }\n",
       "</style>\n",
       "<table border=\"1\" class=\"dataframe\">\n",
       "  <thead>\n",
       "    <tr style=\"text-align: right;\">\n",
       "      <th></th>\n",
       "      <th>user_id</th>\n",
       "      <th>book_id</th>\n",
       "      <th>rating</th>\n",
       "    </tr>\n",
       "  </thead>\n",
       "  <tbody>\n",
       "    <tr>\n",
       "      <th>0</th>\n",
       "      <td>10714</td>\n",
       "      <td>7164</td>\n",
       "      <td>3</td>\n",
       "    </tr>\n",
       "    <tr>\n",
       "      <th>1</th>\n",
       "      <td>48091</td>\n",
       "      <td>2213</td>\n",
       "      <td>3</td>\n",
       "    </tr>\n",
       "    <tr>\n",
       "      <th>2</th>\n",
       "      <td>9809</td>\n",
       "      <td>5769</td>\n",
       "      <td>4</td>\n",
       "    </tr>\n",
       "    <tr>\n",
       "      <th>3</th>\n",
       "      <td>25191</td>\n",
       "      <td>86</td>\n",
       "      <td>5</td>\n",
       "    </tr>\n",
       "    <tr>\n",
       "      <th>4</th>\n",
       "      <td>25441</td>\n",
       "      <td>4884</td>\n",
       "      <td>3</td>\n",
       "    </tr>\n",
       "  </tbody>\n",
       "</table>\n",
       "</div>"
      ],
      "text/plain": [
       "   user_id  book_id  rating\n",
       "0    10714     7164       3\n",
       "1    48091     2213       3\n",
       "2     9809     5769       4\n",
       "3    25191       86       5\n",
       "4    25441     4884       3"
      ]
     },
     "execution_count": 1,
     "metadata": {},
     "output_type": "execute_result"
    }
   ],
   "source": [
    "import pandas as pd\n",
    "\n",
    "train = pd.read_csv('../data/interim/train.csv')\n",
    "\n",
    "train.head()"
   ]
  },
  {
   "cell_type": "code",
   "execution_count": 2,
   "metadata": {},
   "outputs": [
    {
     "data": {
      "text/html": [
       "<div>\n",
       "<style scoped>\n",
       "    .dataframe tbody tr th:only-of-type {\n",
       "        vertical-align: middle;\n",
       "    }\n",
       "\n",
       "    .dataframe tbody tr th {\n",
       "        vertical-align: top;\n",
       "    }\n",
       "\n",
       "    .dataframe thead th {\n",
       "        text-align: right;\n",
       "    }\n",
       "</style>\n",
       "<table border=\"1\" class=\"dataframe\">\n",
       "  <thead>\n",
       "    <tr style=\"text-align: right;\">\n",
       "      <th></th>\n",
       "      <th>user_id</th>\n",
       "      <th>book_id</th>\n",
       "      <th>rating</th>\n",
       "    </tr>\n",
       "  </thead>\n",
       "  <tbody>\n",
       "    <tr>\n",
       "      <th>0</th>\n",
       "      <td>42562</td>\n",
       "      <td>2757</td>\n",
       "      <td>3</td>\n",
       "    </tr>\n",
       "    <tr>\n",
       "      <th>1</th>\n",
       "      <td>43232</td>\n",
       "      <td>134</td>\n",
       "      <td>4</td>\n",
       "    </tr>\n",
       "    <tr>\n",
       "      <th>2</th>\n",
       "      <td>37244</td>\n",
       "      <td>1463</td>\n",
       "      <td>5</td>\n",
       "    </tr>\n",
       "    <tr>\n",
       "      <th>3</th>\n",
       "      <td>53366</td>\n",
       "      <td>71</td>\n",
       "      <td>2</td>\n",
       "    </tr>\n",
       "    <tr>\n",
       "      <th>4</th>\n",
       "      <td>29634</td>\n",
       "      <td>3339</td>\n",
       "      <td>4</td>\n",
       "    </tr>\n",
       "  </tbody>\n",
       "</table>\n",
       "</div>"
      ],
      "text/plain": [
       "   user_id  book_id  rating\n",
       "0    42562     2757       3\n",
       "1    43232      134       4\n",
       "2    37244     1463       5\n",
       "3    53366       71       2\n",
       "4    29634     3339       4"
      ]
     },
     "execution_count": 2,
     "metadata": {},
     "output_type": "execute_result"
    }
   ],
   "source": [
    "test = pd.read_csv('../data/interim/test.csv')\n",
    "\n",
    "test.head()"
   ]
  },
  {
   "cell_type": "code",
   "execution_count": 3,
   "metadata": {
    "colab": {
     "base_uri": "https://localhost:8080/",
     "height": 377
    },
    "id": "MPQXtQpbC3Se",
    "outputId": "02973224-7db8-4bf7-83f5-eb19aecf9db0"
   },
   "outputs": [
    {
     "data": {
      "text/html": [
       "<div>\n",
       "<style scoped>\n",
       "    .dataframe tbody tr th:only-of-type {\n",
       "        vertical-align: middle;\n",
       "    }\n",
       "\n",
       "    .dataframe tbody tr th {\n",
       "        vertical-align: top;\n",
       "    }\n",
       "\n",
       "    .dataframe thead th {\n",
       "        text-align: right;\n",
       "    }\n",
       "</style>\n",
       "<table border=\"1\" class=\"dataframe\">\n",
       "  <thead>\n",
       "    <tr style=\"text-align: right;\">\n",
       "      <th></th>\n",
       "      <th>book_id</th>\n",
       "      <th>authors</th>\n",
       "      <th>original_publication_year</th>\n",
       "      <th>title</th>\n",
       "      <th>average_rating</th>\n",
       "      <th>image_url</th>\n",
       "    </tr>\n",
       "  </thead>\n",
       "  <tbody>\n",
       "    <tr>\n",
       "      <th>0</th>\n",
       "      <td>1</td>\n",
       "      <td>Suzanne Collins</td>\n",
       "      <td>2008.0</td>\n",
       "      <td>The Hunger Games (The Hunger Games, #1)</td>\n",
       "      <td>4.34</td>\n",
       "      <td>https://images.gr-assets.com/books/1447303603m...</td>\n",
       "    </tr>\n",
       "    <tr>\n",
       "      <th>1</th>\n",
       "      <td>2</td>\n",
       "      <td>J.K. Rowling, Mary GrandPré</td>\n",
       "      <td>1997.0</td>\n",
       "      <td>Harry Potter and the Sorcerer's Stone (Harry P...</td>\n",
       "      <td>4.44</td>\n",
       "      <td>https://images.gr-assets.com/books/1474154022m...</td>\n",
       "    </tr>\n",
       "    <tr>\n",
       "      <th>2</th>\n",
       "      <td>3</td>\n",
       "      <td>Stephenie Meyer</td>\n",
       "      <td>2005.0</td>\n",
       "      <td>Twilight (Twilight, #1)</td>\n",
       "      <td>3.57</td>\n",
       "      <td>https://images.gr-assets.com/books/1361039443m...</td>\n",
       "    </tr>\n",
       "    <tr>\n",
       "      <th>3</th>\n",
       "      <td>4</td>\n",
       "      <td>Harper Lee</td>\n",
       "      <td>1960.0</td>\n",
       "      <td>To Kill a Mockingbird</td>\n",
       "      <td>4.25</td>\n",
       "      <td>https://images.gr-assets.com/books/1361975680m...</td>\n",
       "    </tr>\n",
       "    <tr>\n",
       "      <th>4</th>\n",
       "      <td>5</td>\n",
       "      <td>F. Scott Fitzgerald</td>\n",
       "      <td>1925.0</td>\n",
       "      <td>The Great Gatsby</td>\n",
       "      <td>3.89</td>\n",
       "      <td>https://images.gr-assets.com/books/1490528560m...</td>\n",
       "    </tr>\n",
       "  </tbody>\n",
       "</table>\n",
       "</div>"
      ],
      "text/plain": [
       "   book_id                      authors  original_publication_year  \\\n",
       "0        1              Suzanne Collins                     2008.0   \n",
       "1        2  J.K. Rowling, Mary GrandPré                     1997.0   \n",
       "2        3              Stephenie Meyer                     2005.0   \n",
       "3        4                   Harper Lee                     1960.0   \n",
       "4        5          F. Scott Fitzgerald                     1925.0   \n",
       "\n",
       "                                               title  average_rating  \\\n",
       "0            The Hunger Games (The Hunger Games, #1)            4.34   \n",
       "1  Harry Potter and the Sorcerer's Stone (Harry P...            4.44   \n",
       "2                            Twilight (Twilight, #1)            3.57   \n",
       "3                              To Kill a Mockingbird            4.25   \n",
       "4                                   The Great Gatsby            3.89   \n",
       "\n",
       "                                           image_url  \n",
       "0  https://images.gr-assets.com/books/1447303603m...  \n",
       "1  https://images.gr-assets.com/books/1474154022m...  \n",
       "2  https://images.gr-assets.com/books/1361039443m...  \n",
       "3  https://images.gr-assets.com/books/1361975680m...  \n",
       "4  https://images.gr-assets.com/books/1490528560m...  "
      ]
     },
     "execution_count": 3,
     "metadata": {},
     "output_type": "execute_result"
    }
   ],
   "source": [
    "books_information = pd.read_csv('../data/interim/books_information.csv')\n",
    "\n",
    "books_information.head()"
   ]
  },
  {
   "cell_type": "markdown",
   "metadata": {
    "id": "1m9n5dQyoaL4"
   },
   "source": [
    "## Model"
   ]
  },
  {
   "cell_type": "code",
   "execution_count": 4,
   "metadata": {
    "id": "TEfCuj-do0Q-"
   },
   "outputs": [],
   "source": [
    "# !pip install tensorflow\n",
    "# !pip install keras"
   ]
  },
  {
   "cell_type": "code",
   "execution_count": 5,
   "metadata": {
    "id": "sf_ahzsjovB0"
   },
   "outputs": [
    {
     "name": "stdout",
     "output_type": "stream",
     "text": [
      "WARNING:tensorflow:From c:\\users\\user\\appdata\\local\\programs\\python\\python39\\lib\\site-packages\\keras\\src\\losses.py:2976: The name tf.losses.sparse_softmax_cross_entropy is deprecated. Please use tf.compat.v1.losses.sparse_softmax_cross_entropy instead.\n",
      "\n"
     ]
    }
   ],
   "source": [
    "from tensorflow.keras.models import Model\n",
    "from tensorflow.keras.layers import Input, Embedding, Flatten, Dense, Concatenate\n",
    "from tensorflow.keras.optimizers import Adam"
   ]
  },
  {
   "cell_type": "markdown",
   "metadata": {
    "id": "HJ1LFU_EfFJB"
   },
   "source": [
    "### Define the model"
   ]
  },
  {
   "cell_type": "code",
   "execution_count": 6,
   "metadata": {
    "id": "hBdNFq0lodWs"
   },
   "outputs": [],
   "source": [
    "num_users = len(train['user_id'].unique())\n",
    "num_books = len(train['book_id'].unique())\n",
    "embedding_size = 10"
   ]
  },
  {
   "cell_type": "code",
   "execution_count": 7,
   "metadata": {
    "id": "lp0zrphZenTg"
   },
   "outputs": [
    {
     "name": "stdout",
     "output_type": "stream",
     "text": [
      "WARNING:tensorflow:From c:\\users\\user\\appdata\\local\\programs\\python\\python39\\lib\\site-packages\\keras\\src\\backend.py:1398: The name tf.executing_eagerly_outside_functions is deprecated. Please use tf.compat.v1.executing_eagerly_outside_functions instead.\n",
      "\n"
     ]
    }
   ],
   "source": [
    "# Define input layers\n",
    "\n",
    "user_input = Input(shape=(1,), name='user_input')\n",
    "book_input = Input(shape=(1,), name='book_input')"
   ]
  },
  {
   "cell_type": "code",
   "execution_count": 8,
   "metadata": {
    "id": "ePVhIFxLerjR"
   },
   "outputs": [],
   "source": [
    "# Create embeddings for users and books\n",
    "\n",
    "user_embedding = Embedding(input_dim=num_users+1, output_dim=embedding_size, input_length=1)(user_input)\n",
    "book_embedding = Embedding(input_dim=num_books+1, output_dim=embedding_size, input_length=1)(book_input)"
   ]
  },
  {
   "cell_type": "code",
   "execution_count": 9,
   "metadata": {
    "id": "WakyXR14pQ9c"
   },
   "outputs": [],
   "source": [
    "# Flatten the embeddings\n",
    "\n",
    "user_flat = Flatten()(user_embedding)\n",
    "book_flat = Flatten()(book_embedding)"
   ]
  },
  {
   "cell_type": "code",
   "execution_count": 10,
   "metadata": {
    "id": "4qbXLa_vp57D"
   },
   "outputs": [],
   "source": [
    "# Concatenate user and book embeddings\n",
    "\n",
    "concatenated = Concatenate()([book_flat, user_flat])"
   ]
  },
  {
   "cell_type": "code",
   "execution_count": 11,
   "metadata": {
    "id": "SiT5RWYqqRVL"
   },
   "outputs": [],
   "source": [
    "# Build a neural network\n",
    "\n",
    "dense1 = Dense(128, activation='relu')(concatenated)\n",
    "dense2 = Dense(32, activation='relu')(dense1)\n",
    "output = Dense(1)(dense2)"
   ]
  },
  {
   "cell_type": "code",
   "execution_count": 12,
   "metadata": {
    "id": "IBiJrP8RqbYz"
   },
   "outputs": [],
   "source": [
    "model = Model(inputs=[user_input, book_input], outputs=output)"
   ]
  },
  {
   "cell_type": "code",
   "execution_count": 13,
   "metadata": {},
   "outputs": [
    {
     "name": "stdout",
     "output_type": "stream",
     "text": [
      "Model: \"model\"\n",
      "__________________________________________________________________________________________________\n",
      " Layer (type)                Output Shape                 Param #   Connected to                  \n",
      "==================================================================================================\n",
      " book_input (InputLayer)     [(None, 1)]                  0         []                            \n",
      "                                                                                                  \n",
      " user_input (InputLayer)     [(None, 1)]                  0         []                            \n",
      "                                                                                                  \n",
      " embedding_1 (Embedding)     (None, 1, 10)                100010    ['book_input[0][0]']          \n",
      "                                                                                                  \n",
      " embedding (Embedding)       (None, 1, 10)                534250    ['user_input[0][0]']          \n",
      "                                                                                                  \n",
      " flatten_1 (Flatten)         (None, 10)                   0         ['embedding_1[0][0]']         \n",
      "                                                                                                  \n",
      " flatten (Flatten)           (None, 10)                   0         ['embedding[0][0]']           \n",
      "                                                                                                  \n",
      " concatenate (Concatenate)   (None, 20)                   0         ['flatten_1[0][0]',           \n",
      "                                                                     'flatten[0][0]']             \n",
      "                                                                                                  \n",
      " dense (Dense)               (None, 128)                  2688      ['concatenate[0][0]']         \n",
      "                                                                                                  \n",
      " dense_1 (Dense)             (None, 32)                   4128      ['dense[0][0]']               \n",
      "                                                                                                  \n",
      " dense_2 (Dense)             (None, 1)                    33        ['dense_1[0][0]']             \n",
      "                                                                                                  \n",
      "==================================================================================================\n",
      "Total params: 641109 (2.45 MB)\n",
      "Trainable params: 641109 (2.45 MB)\n",
      "Non-trainable params: 0 (0.00 Byte)\n",
      "__________________________________________________________________________________________________\n"
     ]
    }
   ],
   "source": [
    "model.summary()"
   ]
  },
  {
   "cell_type": "code",
   "execution_count": 14,
   "metadata": {
    "id": "quRZZN7cqe-V"
   },
   "outputs": [],
   "source": [
    "model.compile(optimizer=Adam(learning_rate=0.001), loss='mean_squared_error')"
   ]
  },
  {
   "cell_type": "markdown",
   "metadata": {
    "id": "KN6m6Fy3fW38"
   },
   "source": [
    "### Train the model on train dataset"
   ]
  },
  {
   "cell_type": "code",
   "execution_count": 15,
   "metadata": {
    "id": "Cw0wF5ZfqgR5"
   },
   "outputs": [],
   "source": [
    "import keras.models\n",
    "import os\n",
    "\n",
    "if os.path.exists('../models/train_user_based_model.keras'):\n",
    "    model = keras.models.load_model('../models/train_user_based_model.keras')\n",
    "else:\n",
    "    model.fit([train['user_id'], train['book_id']], train['rating'], epochs=5, batch_size=64, validation_split=0.2)\n",
    "    model.save('../models/train_user_based_model.keras')"
   ]
  },
  {
   "cell_type": "markdown",
   "metadata": {},
   "source": [
    "### Evaluation"
   ]
  },
  {
   "cell_type": "code",
   "execution_count": 16,
   "metadata": {},
   "outputs": [],
   "source": [
    "from sklearn.metrics import mean_squared_error\n",
    "\n",
    "# Function to calculate Root Mean Squared Error (RMSE)\n",
    "def calculate_rmse(predictions, targets):\n",
    "    return np.sqrt(mean_squared_error(predictions, targets))"
   ]
  },
  {
   "cell_type": "code",
   "execution_count": 17,
   "metadata": {},
   "outputs": [],
   "source": [
    "from sklearn.metrics.pairwise import cosine_similarity\n",
    "\n",
    "def find_similar_users(user_ratings, train):\n",
    "    # Filter train data for the specified books in user_ratings\n",
    "    selected_books = user_ratings['book_id'].values\n",
    "    train_subset = train[train['book_id'].isin(selected_books)]\n",
    "\n",
    "    # Pivot the train_subset to have users as rows and books as columns\n",
    "    user_book_matrix = train_subset.pivot_table(index='user_id', columns='book_id', values='rating', fill_value=0)\n",
    "\n",
    "    # Create a user-book matrix for the target user\n",
    "    target_user_ratings = pd.Series(user_ratings['rating'].values, index=user_ratings['book_id'])\n",
    "    target_user_matrix = pd.DataFrame(target_user_ratings).transpose()\n",
    "\n",
    "    # Calculate cosine similarity between the target user and all other users\n",
    "    similarity_scores = cosine_similarity(target_user_matrix, user_book_matrix)\n",
    "\n",
    "    # Get the top 3 most similar users\n",
    "    similar_users_indices = similarity_scores.argsort()[0, ::-1][1:4]  # Exclude the target user\n",
    "    similar_users = user_book_matrix.index[similar_users_indices]\n",
    "\n",
    "    return list(similar_users)"
   ]
  },
  {
   "cell_type": "code",
   "execution_count": 18,
   "metadata": {},
   "outputs": [],
   "source": [
    "import numpy as np\n",
    "\n",
    "\n",
    "def predict_ratings(train, test, model):\n",
    "    predicted_ratings = []\n",
    "    \n",
    "    for index, row in test.iterrows():\n",
    "        user_id = row['user_id']\n",
    "        book_id = row['book_id']\n",
    "        rating = row['rating']\n",
    "\n",
    "        # Find similar users for the current test user\n",
    "        similar_users = find_similar_users(test[test['user_id'] == user_id], train)\n",
    "\n",
    "        predict_data = pd.DataFrame([(similar_user, book_id) for similar_user in similar_users],\n",
    "                                    columns=['user_id', 'book_id'])\n",
    "\n",
    "        # Use the model to predict ratings\n",
    "        predictions = model.predict([np.array(predict_data['user_id']), np.array(predict_data['book_id'])], verbose=0)\n",
    "\n",
    "        predicted_rating = np.mean(predictions)\n",
    "\n",
    "        # Append the predicted rating to the list\n",
    "        predicted_ratings.append(predicted_rating)\n",
    "\n",
    "\n",
    "    return predicted_ratings\n"
   ]
  },
  {
   "cell_type": "markdown",
   "metadata": {},
   "source": [
    "#### Evaluation on test data"
   ]
  },
  {
   "cell_type": "code",
   "execution_count": 19,
   "metadata": {
    "colab": {
     "base_uri": "https://localhost:8080/"
    },
    "id": "0xsC992Sp0n7",
    "outputId": "272d7d14-93b8-4b95-d99c-4997996d599c"
   },
   "outputs": [
    {
     "name": "stdout",
     "output_type": "stream",
     "text": [
      "WARNING:tensorflow:From c:\\users\\user\\appdata\\local\\programs\\python\\python39\\lib\\site-packages\\keras\\src\\utils\\tf_utils.py:492: The name tf.ragged.RaggedTensorValue is deprecated. Please use tf.compat.v1.ragged.RaggedTensorValue instead.\n",
      "\n",
      "37353/37353 [==============================] - 141s 4ms/step - loss: 0.6926\n",
      "RMSE: 0.8322319540884523\n"
     ]
    }
   ],
   "source": [
    "# Evaluate the model on the test set\n",
    "loss = model.evaluate([test['user_id'], test['book_id']], test['rating'])\n",
    "print(f'RMSE: {loss**0.5}')"
   ]
  },
  {
   "cell_type": "code",
   "execution_count": 20,
   "metadata": {},
   "outputs": [
    {
     "name": "stderr",
     "output_type": "stream",
     "text": [
      "C:\\Users\\User\\AppData\\Local\\Temp\\ipykernel_9956\\572945598.py:6: SettingWithCopyWarning: \n",
      "A value is trying to be set on a copy of a slice from a DataFrame.\n",
      "Try using .loc[row_indexer,col_indexer] = value instead\n",
      "\n",
      "See the caveats in the documentation: https://pandas.pydata.org/pandas-docs/stable/user_guide/indexing.html#returning-a-view-versus-a-copy\n",
      "  test1['predicted_rating'] = predicted_ratings\n"
     ]
    }
   ],
   "source": [
    "test1 = test[:1000]\n",
    "\n",
    "predicted_ratings = predict_ratings(train, test1, model)\n",
    "\n",
    "# Add the predicted ratings to the test_data DataFrame\n",
    "test1['predicted_rating'] = predicted_ratings"
   ]
  },
  {
   "cell_type": "code",
   "execution_count": 21,
   "metadata": {},
   "outputs": [
    {
     "name": "stdout",
     "output_type": "stream",
     "text": [
      "RMSE: 0.9892375964637813\n"
     ]
    }
   ],
   "source": [
    "rmse = calculate_rmse(test1['predicted_rating'], test1['rating'])\n",
    "print(f\"RMSE: {rmse}\")"
   ]
  },
  {
   "cell_type": "markdown",
   "metadata": {},
   "source": [
    "#### Evaluation on highly rated books"
   ]
  },
  {
   "cell_type": "code",
   "execution_count": 22,
   "metadata": {},
   "outputs": [
    {
     "name": "stdout",
     "output_type": "stream",
     "text": [
      "25776/25776 [==============================] - 62s 2ms/step - loss: 0.4606\n",
      "RMSE: 0.6786692874121824\n"
     ]
    }
   ],
   "source": [
    "test1 = test[test[\"rating\"] > 3]\n",
    "\n",
    "loss = model.evaluate([test1['user_id'], test1['book_id']], test1['rating'])\n",
    "print(f'RMSE: {loss**0.5}')"
   ]
  },
  {
   "cell_type": "code",
   "execution_count": 23,
   "metadata": {},
   "outputs": [],
   "source": [
    "test2 = test[test[\"rating\"] > 3][:1000]\n",
    "\n",
    "predicted_ratings = predict_ratings(train, test2, model)\n",
    "\n",
    "test2['predicted_rating'] = predicted_ratings"
   ]
  },
  {
   "cell_type": "code",
   "execution_count": 24,
   "metadata": {},
   "outputs": [
    {
     "name": "stdout",
     "output_type": "stream",
     "text": [
      "RMSE: 0.8197350469425796\n"
     ]
    }
   ],
   "source": [
    "rmse = calculate_rmse(test2['predicted_rating'], test2['rating'])\n",
    "print(f\"RMSE: {rmse}\")"
   ]
  },
  {
   "cell_type": "markdown",
   "metadata": {
    "id": "koFwdoMNdXzp"
   },
   "source": [
    "## Test"
   ]
  },
  {
   "cell_type": "markdown",
   "metadata": {
    "id": "cXEdPOkjfcuC"
   },
   "source": [
    "### Prediction function"
   ]
  },
  {
   "cell_type": "code",
   "execution_count": 25,
   "metadata": {},
   "outputs": [],
   "source": [
    "import numpy as np\n",
    "\n",
    "\n",
    "def recommend_books_user_based(user_ratings, model):\n",
    "    \n",
    "    similar_users = find_similar_users(user_ratings, train)\n",
    "    \n",
    "    # Get the list of all books\n",
    "    all_books = train['book_id'].unique()\n",
    "    \n",
    "    predict_data = pd.DataFrame([(similar_user, book_id) for similar_user in similar_users for book_id in all_books if book_id not in user_ratings['book_id']],\n",
    "                                columns=['user', 'book'])\n",
    "\n",
    "\n",
    "    # Use the model to predict ratings\n",
    "    predictions = model.predict([np.array(predict_data['user']), np.array(predict_data['book'])])\n",
    "\n",
    "    predict_data['predicted_rating'] = predictions\n",
    "    \n",
    "    \n",
    "    top_books = predict_data.groupby('book')['predicted_rating'].mean().reset_index()\n",
    "\n",
    "    return top_books[['book', 'predicted_rating']]\n",
    "    "
   ]
  },
  {
   "cell_type": "code",
   "execution_count": 26,
   "metadata": {},
   "outputs": [],
   "source": [
    "def top_recommend_books(user_ratings, model, num_recommendations=5):\n",
    "    predict_data = recommend_books_user_based(user_ratings, model)\n",
    "    top_recommendations = predict_data.sort_values(by='predicted_rating', ascending=False).head(num_recommendations)\n",
    "    recommended_book_ids = top_recommendations['book']\n",
    "    return books_information[books_information['book_id'].isin(recommended_book_ids)][['authors', 'original_publication_year', 'title']]"
   ]
  },
  {
   "cell_type": "code",
   "execution_count": 27,
   "metadata": {},
   "outputs": [],
   "source": [
    "user_ratings = pd.DataFrame({  \n",
    "    'book_id': [1, 12, 3, 4, 15, 4640, 3093, 8, 9, 10],\n",
    "    'rating': [5, 5, 3, 5, 5, 1, 5, 5, 3, 4]\n",
    "})"
   ]
  },
  {
   "cell_type": "code",
   "execution_count": 28,
   "metadata": {},
   "outputs": [
    {
     "name": "stdout",
     "output_type": "stream",
     "text": [
      "937/937 [==============================] - 3s 3ms/step\n",
      "Top 5 Recommended Books:\n"
     ]
    },
    {
     "data": {
      "text/html": [
       "<div>\n",
       "<style scoped>\n",
       "    .dataframe tbody tr th:only-of-type {\n",
       "        vertical-align: middle;\n",
       "    }\n",
       "\n",
       "    .dataframe tbody tr th {\n",
       "        vertical-align: top;\n",
       "    }\n",
       "\n",
       "    .dataframe thead th {\n",
       "        text-align: right;\n",
       "    }\n",
       "</style>\n",
       "<table border=\"1\" class=\"dataframe\">\n",
       "  <thead>\n",
       "    <tr style=\"text-align: right;\">\n",
       "      <th></th>\n",
       "      <th>authors</th>\n",
       "      <th>original_publication_year</th>\n",
       "      <th>title</th>\n",
       "    </tr>\n",
       "  </thead>\n",
       "  <tbody>\n",
       "    <tr>\n",
       "      <th>2100</th>\n",
       "      <td>J.K. Rowling, Mary GrandPré</td>\n",
       "      <td>1999.0</td>\n",
       "      <td>The Harry Potter Collection 1-4 (Harry Potter,...</td>\n",
       "    </tr>\n",
       "    <tr>\n",
       "      <th>3752</th>\n",
       "      <td>J.K. Rowling</td>\n",
       "      <td>2005.0</td>\n",
       "      <td>Harry Potter Collection (Harry Potter, #1-6)</td>\n",
       "    </tr>\n",
       "    <tr>\n",
       "      <th>5989</th>\n",
       "      <td>Radwa Ashour, رضوى عاشور</td>\n",
       "      <td>2010.0</td>\n",
       "      <td>الطنطورية</td>\n",
       "    </tr>\n",
       "    <tr>\n",
       "      <th>9359</th>\n",
       "      <td>Stephen King</td>\n",
       "      <td>1996.0</td>\n",
       "      <td>The Green Mile, Part 6: Coffey on the Mile</td>\n",
       "    </tr>\n",
       "    <tr>\n",
       "      <th>9922</th>\n",
       "      <td>Stephen King</td>\n",
       "      <td>1996.0</td>\n",
       "      <td>The Green Mile, Part 5: Night Journey</td>\n",
       "    </tr>\n",
       "  </tbody>\n",
       "</table>\n",
       "</div>"
      ],
      "text/plain": [
       "                          authors  original_publication_year  \\\n",
       "2100  J.K. Rowling, Mary GrandPré                     1999.0   \n",
       "3752                 J.K. Rowling                     2005.0   \n",
       "5989     Radwa Ashour, رضوى عاشور                     2010.0   \n",
       "9359                 Stephen King                     1996.0   \n",
       "9922                 Stephen King                     1996.0   \n",
       "\n",
       "                                                  title  \n",
       "2100  The Harry Potter Collection 1-4 (Harry Potter,...  \n",
       "3752       Harry Potter Collection (Harry Potter, #1-6)  \n",
       "5989                                          الطنطورية  \n",
       "9359         The Green Mile, Part 6: Coffey on the Mile  \n",
       "9922              The Green Mile, Part 5: Night Journey  "
      ]
     },
     "execution_count": 28,
     "metadata": {},
     "output_type": "execute_result"
    }
   ],
   "source": [
    "# Example: Get top 5 recommendations for the user's ratings\n",
    "top_recommendations = top_recommend_books(user_ratings, model, num_recommendations=5)\n",
    "\n",
    "print(\"Top 5 Recommended Books:\")\n",
    "top_recommendations"
   ]
  }
 ],
 "metadata": {
  "colab": {
   "provenance": []
  },
  "kernelspec": {
   "display_name": "Python 3 (ipykernel)",
   "language": "python",
   "name": "python3"
  },
  "language_info": {
   "codemirror_mode": {
    "name": "ipython",
    "version": 3
   },
   "file_extension": ".py",
   "mimetype": "text/x-python",
   "name": "python",
   "nbconvert_exporter": "python",
   "pygments_lexer": "ipython3",
   "version": "3.9.6"
  }
 },
 "nbformat": 4,
 "nbformat_minor": 1
}
