{
 "cells": [
  {
   "cell_type": "markdown",
   "id": "9ff12cec",
   "metadata": {},
   "source": [
    "# Hybrid model"
   ]
  },
  {
   "cell_type": "markdown",
   "id": "bbb0fb4c",
   "metadata": {},
   "source": [
    "This notebook presents a hybrid model that combines a content based system and a user based model. "
   ]
  },
  {
   "cell_type": "markdown",
   "id": "a27fd204",
   "metadata": {},
   "source": [
    "## Data Loading"
   ]
  },
  {
   "cell_type": "code",
   "execution_count": 14,
   "id": "48e97c24",
   "metadata": {},
   "outputs": [
    {
     "data": {
      "text/html": [
       "<div>\n",
       "<style scoped>\n",
       "    .dataframe tbody tr th:only-of-type {\n",
       "        vertical-align: middle;\n",
       "    }\n",
       "\n",
       "    .dataframe tbody tr th {\n",
       "        vertical-align: top;\n",
       "    }\n",
       "\n",
       "    .dataframe thead th {\n",
       "        text-align: right;\n",
       "    }\n",
       "</style>\n",
       "<table border=\"1\" class=\"dataframe\">\n",
       "  <thead>\n",
       "    <tr style=\"text-align: right;\">\n",
       "      <th></th>\n",
       "      <th>user_id</th>\n",
       "      <th>book_id</th>\n",
       "      <th>rating</th>\n",
       "    </tr>\n",
       "  </thead>\n",
       "  <tbody>\n",
       "    <tr>\n",
       "      <th>0</th>\n",
       "      <td>10714</td>\n",
       "      <td>7164</td>\n",
       "      <td>3</td>\n",
       "    </tr>\n",
       "    <tr>\n",
       "      <th>1</th>\n",
       "      <td>48091</td>\n",
       "      <td>2213</td>\n",
       "      <td>3</td>\n",
       "    </tr>\n",
       "    <tr>\n",
       "      <th>2</th>\n",
       "      <td>9809</td>\n",
       "      <td>5769</td>\n",
       "      <td>4</td>\n",
       "    </tr>\n",
       "    <tr>\n",
       "      <th>3</th>\n",
       "      <td>25191</td>\n",
       "      <td>86</td>\n",
       "      <td>5</td>\n",
       "    </tr>\n",
       "    <tr>\n",
       "      <th>4</th>\n",
       "      <td>25441</td>\n",
       "      <td>4884</td>\n",
       "      <td>3</td>\n",
       "    </tr>\n",
       "  </tbody>\n",
       "</table>\n",
       "</div>"
      ],
      "text/plain": [
       "   user_id  book_id  rating\n",
       "0    10714     7164       3\n",
       "1    48091     2213       3\n",
       "2     9809     5769       4\n",
       "3    25191       86       5\n",
       "4    25441     4884       3"
      ]
     },
     "execution_count": 14,
     "metadata": {},
     "output_type": "execute_result"
    }
   ],
   "source": [
    "import pandas as pd\n",
    "\n",
    "train = pd.read_csv('../data/interim/train.csv')\n",
    "\n",
    "train.head()"
   ]
  },
  {
   "cell_type": "code",
   "execution_count": 15,
   "id": "dfb57ea0",
   "metadata": {},
   "outputs": [
    {
     "data": {
      "text/html": [
       "<div>\n",
       "<style scoped>\n",
       "    .dataframe tbody tr th:only-of-type {\n",
       "        vertical-align: middle;\n",
       "    }\n",
       "\n",
       "    .dataframe tbody tr th {\n",
       "        vertical-align: top;\n",
       "    }\n",
       "\n",
       "    .dataframe thead th {\n",
       "        text-align: right;\n",
       "    }\n",
       "</style>\n",
       "<table border=\"1\" class=\"dataframe\">\n",
       "  <thead>\n",
       "    <tr style=\"text-align: right;\">\n",
       "      <th></th>\n",
       "      <th>user_id</th>\n",
       "      <th>book_id</th>\n",
       "      <th>rating</th>\n",
       "    </tr>\n",
       "  </thead>\n",
       "  <tbody>\n",
       "    <tr>\n",
       "      <th>0</th>\n",
       "      <td>42562</td>\n",
       "      <td>2757</td>\n",
       "      <td>3</td>\n",
       "    </tr>\n",
       "    <tr>\n",
       "      <th>1</th>\n",
       "      <td>43232</td>\n",
       "      <td>134</td>\n",
       "      <td>4</td>\n",
       "    </tr>\n",
       "    <tr>\n",
       "      <th>2</th>\n",
       "      <td>37244</td>\n",
       "      <td>1463</td>\n",
       "      <td>5</td>\n",
       "    </tr>\n",
       "    <tr>\n",
       "      <th>3</th>\n",
       "      <td>53366</td>\n",
       "      <td>71</td>\n",
       "      <td>2</td>\n",
       "    </tr>\n",
       "    <tr>\n",
       "      <th>4</th>\n",
       "      <td>29634</td>\n",
       "      <td>3339</td>\n",
       "      <td>4</td>\n",
       "    </tr>\n",
       "  </tbody>\n",
       "</table>\n",
       "</div>"
      ],
      "text/plain": [
       "   user_id  book_id  rating\n",
       "0    42562     2757       3\n",
       "1    43232      134       4\n",
       "2    37244     1463       5\n",
       "3    53366       71       2\n",
       "4    29634     3339       4"
      ]
     },
     "execution_count": 15,
     "metadata": {},
     "output_type": "execute_result"
    }
   ],
   "source": [
    "test = pd.read_csv('../data/interim/test.csv')\n",
    "\n",
    "test.head()"
   ]
  },
  {
   "cell_type": "code",
   "execution_count": 16,
   "id": "82c70263",
   "metadata": {},
   "outputs": [
    {
     "data": {
      "text/html": [
       "<div>\n",
       "<style scoped>\n",
       "    .dataframe tbody tr th:only-of-type {\n",
       "        vertical-align: middle;\n",
       "    }\n",
       "\n",
       "    .dataframe tbody tr th {\n",
       "        vertical-align: top;\n",
       "    }\n",
       "\n",
       "    .dataframe thead th {\n",
       "        text-align: right;\n",
       "    }\n",
       "</style>\n",
       "<table border=\"1\" class=\"dataframe\">\n",
       "  <thead>\n",
       "    <tr style=\"text-align: right;\">\n",
       "      <th></th>\n",
       "      <th>book_id</th>\n",
       "      <th>authors</th>\n",
       "      <th>original_publication_year</th>\n",
       "      <th>title</th>\n",
       "      <th>average_rating</th>\n",
       "      <th>image_url</th>\n",
       "    </tr>\n",
       "  </thead>\n",
       "  <tbody>\n",
       "    <tr>\n",
       "      <th>0</th>\n",
       "      <td>1</td>\n",
       "      <td>Suzanne Collins</td>\n",
       "      <td>2008.0</td>\n",
       "      <td>The Hunger Games (The Hunger Games, #1)</td>\n",
       "      <td>4.34</td>\n",
       "      <td>https://images.gr-assets.com/books/1447303603m...</td>\n",
       "    </tr>\n",
       "    <tr>\n",
       "      <th>1</th>\n",
       "      <td>2</td>\n",
       "      <td>J.K. Rowling, Mary GrandPré</td>\n",
       "      <td>1997.0</td>\n",
       "      <td>Harry Potter and the Sorcerer's Stone (Harry P...</td>\n",
       "      <td>4.44</td>\n",
       "      <td>https://images.gr-assets.com/books/1474154022m...</td>\n",
       "    </tr>\n",
       "    <tr>\n",
       "      <th>2</th>\n",
       "      <td>3</td>\n",
       "      <td>Stephenie Meyer</td>\n",
       "      <td>2005.0</td>\n",
       "      <td>Twilight (Twilight, #1)</td>\n",
       "      <td>3.57</td>\n",
       "      <td>https://images.gr-assets.com/books/1361039443m...</td>\n",
       "    </tr>\n",
       "    <tr>\n",
       "      <th>3</th>\n",
       "      <td>4</td>\n",
       "      <td>Harper Lee</td>\n",
       "      <td>1960.0</td>\n",
       "      <td>To Kill a Mockingbird</td>\n",
       "      <td>4.25</td>\n",
       "      <td>https://images.gr-assets.com/books/1361975680m...</td>\n",
       "    </tr>\n",
       "    <tr>\n",
       "      <th>4</th>\n",
       "      <td>5</td>\n",
       "      <td>F. Scott Fitzgerald</td>\n",
       "      <td>1925.0</td>\n",
       "      <td>The Great Gatsby</td>\n",
       "      <td>3.89</td>\n",
       "      <td>https://images.gr-assets.com/books/1490528560m...</td>\n",
       "    </tr>\n",
       "  </tbody>\n",
       "</table>\n",
       "</div>"
      ],
      "text/plain": [
       "   book_id                      authors  original_publication_year  \\\n",
       "0        1              Suzanne Collins                     2008.0   \n",
       "1        2  J.K. Rowling, Mary GrandPré                     1997.0   \n",
       "2        3              Stephenie Meyer                     2005.0   \n",
       "3        4                   Harper Lee                     1960.0   \n",
       "4        5          F. Scott Fitzgerald                     1925.0   \n",
       "\n",
       "                                               title  average_rating  \\\n",
       "0            The Hunger Games (The Hunger Games, #1)            4.34   \n",
       "1  Harry Potter and the Sorcerer's Stone (Harry P...            4.44   \n",
       "2                            Twilight (Twilight, #1)            3.57   \n",
       "3                              To Kill a Mockingbird            4.25   \n",
       "4                                   The Great Gatsby            3.89   \n",
       "\n",
       "                                           image_url  \n",
       "0  https://images.gr-assets.com/books/1447303603m...  \n",
       "1  https://images.gr-assets.com/books/1474154022m...  \n",
       "2  https://images.gr-assets.com/books/1361039443m...  \n",
       "3  https://images.gr-assets.com/books/1361975680m...  \n",
       "4  https://images.gr-assets.com/books/1490528560m...  "
      ]
     },
     "execution_count": 16,
     "metadata": {},
     "output_type": "execute_result"
    }
   ],
   "source": [
    "books_information = pd.read_csv('../data/interim/books_information.csv')\n",
    "\n",
    "books_information.head()"
   ]
  },
  {
   "cell_type": "code",
   "execution_count": 17,
   "id": "4ee8344b",
   "metadata": {},
   "outputs": [],
   "source": [
    "import pickle\n",
    "import os\n",
    "\n",
    "if os.path.exists('../data/interim/cosine_similarity_matrix.pkl'):\n",
    "    with open(\"../data/interim/cosine_similarity_matrix.pkl\", 'rb') as file:\n",
    "        cosine_sim = pickle.load(file)  \n",
    "else:\n",
    "    print('Not found')"
   ]
  },
  {
   "cell_type": "code",
   "execution_count": 18,
   "id": "bbcc7ee3",
   "metadata": {},
   "outputs": [],
   "source": [
    "import keras.models\n",
    "\n",
    "if os.path.exists('../models/train_user_based_model.keras'):\n",
    "    model = keras.models.load_model('../models/train_user_based_model.keras')  \n",
    "else:\n",
    "    print('Not found')"
   ]
  },
  {
   "cell_type": "markdown",
   "id": "720e129f",
   "metadata": {},
   "source": [
    "## Model"
   ]
  },
  {
   "cell_type": "code",
   "execution_count": 19,
   "id": "d9061d1a",
   "metadata": {},
   "outputs": [],
   "source": [
    "from sklearn.metrics.pairwise import cosine_similarity\n",
    "import numpy as np"
   ]
  },
  {
   "cell_type": "code",
   "execution_count": 20,
   "id": "e7cf6a38",
   "metadata": {},
   "outputs": [],
   "source": [
    "def find_similar_users(user_ratings, train):\n",
    "    # Filter train data for the specified books in user_ratings\n",
    "    selected_books = user_ratings['book_id'].values\n",
    "    train_subset = train[train['book_id'].isin(selected_books)]\n",
    "\n",
    "    # Pivot the train_subset to have users as rows and books as columns\n",
    "    user_book_matrix = train_subset.pivot_table(index='user_id', columns='book_id', values='rating', fill_value=0)\n",
    "\n",
    "    # Create a user-book matrix for the target user\n",
    "    target_user_ratings = pd.Series(user_ratings['rating'].values, index=user_ratings['book_id'])\n",
    "    target_user_matrix = pd.DataFrame(target_user_ratings).transpose()\n",
    "\n",
    "    # Calculate cosine similarity between the target user and all other users\n",
    "    similarity_scores = cosine_similarity(target_user_matrix, user_book_matrix)\n",
    "\n",
    "    # Get the top 3 most similar users\n",
    "    similar_users_indices = similarity_scores.argsort()[0, ::-1][1:4]\n",
    "    similar_users = user_book_matrix.index[similar_users_indices]\n",
    "\n",
    "    return list(similar_users)"
   ]
  },
  {
   "cell_type": "code",
   "execution_count": 21,
   "id": "b8422fa3",
   "metadata": {},
   "outputs": [],
   "source": [
    "def recommend_books_user_based(user_ratings, model, train):\n",
    "    \n",
    "    similar_users = find_similar_users(user_ratings, train)\n",
    "    \n",
    "    # Get the list of all books\n",
    "    all_books = train['book_id'].unique()\n",
    "    \n",
    "    predict_data = pd.DataFrame([(similar_user, book_id) for similar_user in similar_users for book_id in all_books if book_id not in user_ratings['book_id']],\n",
    "                                columns=['user_id', 'book_id'])\n",
    "\n",
    "\n",
    "    # Use the model to predict ratings\n",
    "    predictions = model.predict([np.array(predict_data['user_id']), np.array(predict_data['book_id'])])\n",
    "\n",
    "    predict_data['predicted_rating'] = predictions\n",
    "    \n",
    "    \n",
    "    top_books = predict_data.groupby('book_id')['predicted_rating'].mean().reset_index()\n",
    "\n",
    "    return top_books[['book_id', 'predicted_rating']]"
   ]
  },
  {
   "cell_type": "code",
   "execution_count": 22,
   "id": "df7c8fb1",
   "metadata": {},
   "outputs": [],
   "source": [
    "def recommend_books_content_based(user_ratings, cosine_sim, books_information):\n",
    "    # Get the list of all books\n",
    "    all_books = books_information['book_id'].unique()\n",
    "\n",
    "    predict_data = pd.DataFrame([book_id for book_id in all_books\n",
    "                                 if book_id not in user_ratings['book_id']],\n",
    "                                columns=['book_id'])\n",
    "\n",
    "    # Use the cosine similarity to predict ratings\n",
    "    for i, book_id in enumerate(predict_data['book_id']):\n",
    "        \n",
    "        similarity_scores = cosine_sim[book_id-1]\n",
    "        \n",
    "        weighted_sum = 0\n",
    "        similarity_sum = 0\n",
    "\n",
    "        for _, rated_book in user_ratings.iterrows():\n",
    "            similarity = similarity_scores[rated_book['book_id'] - 1]\n",
    "            weighted_sum += similarity * rated_book['rating']\n",
    "            similarity_sum += abs(similarity)\n",
    "\n",
    "        if similarity_sum != 0:\n",
    "            #similarity_sum = max(0.2, similarity_sum)\n",
    "            predict_data.at[i, 'predicted_rating'] = weighted_sum / similarity_sum\n",
    "            \n",
    "        else:\n",
    "            predict_data.at[i, 'predicted_rating'] = 3\n",
    "            \n",
    "    predict_data = predict_data[~predict_data['book_id'].isin(user_ratings['book_id'])]\n",
    "\n",
    "    return predict_data[['book_id', 'predicted_rating']]"
   ]
  },
  {
   "cell_type": "code",
   "execution_count": 23,
   "id": "d3dadab0",
   "metadata": {},
   "outputs": [],
   "source": [
    "def hybrid_model(user_ratings, model, cosine_sim, train, books_information):\n",
    "    \n",
    "    user_based_predict = recommend_books_user_based(user_ratings, model, train)\n",
    "    content_based_predict = recommend_books_content_based(user_ratings, cosine_sim, books_information)\n",
    "    \n",
    "    # Merge the two DataFrames on 'book_id'\n",
    "    merged_df = pd.merge(user_based_predict, content_based_predict, on='book_id', suffixes=('_user', '_content'))\n",
    "\n",
    "    # Calculate the overall rating using the specified formula\n",
    "    merged_df['predicted_rating'] = merged_df['predicted_rating_user'] * 0.6 + merged_df['predicted_rating_content'] * 0.4\n",
    "    \n",
    "    return merged_df[['book_id', 'predicted_rating']]"
   ]
  },
  {
   "cell_type": "code",
   "execution_count": 24,
   "id": "1733a5c0",
   "metadata": {},
   "outputs": [],
   "source": [
    "def top_recommend_books(user_ratings, model, cosine_sim, train, books_information, num_recommendations=5):\n",
    "    \n",
    "    predict_data = hybrid_model(user_ratings, model, cosine_sim, train, books_information)\n",
    "    \n",
    "    top_recommendations = predict_data.sort_values(by='predicted_rating', ascending=False).head(num_recommendations)\n",
    "    \n",
    "    recommended_book_ids = top_recommendations['book_id']\n",
    "    \n",
    "    return books_information[books_information['book_id'].isin(recommended_book_ids)][['authors', 'original_publication_year', 'title']]"
   ]
  },
  {
   "cell_type": "markdown",
   "id": "9d8ef2fb",
   "metadata": {},
   "source": [
    "## Evaluation"
   ]
  },
  {
   "cell_type": "code",
   "execution_count": 25,
   "id": "f980af8f",
   "metadata": {},
   "outputs": [],
   "source": [
    "from sklearn.metrics import mean_squared_error\n",
    "\n",
    "# Function to calculate Root Mean Squared Error (RMSE)\n",
    "def calculate_rmse(predictions, targets):\n",
    "    return np.sqrt(mean_squared_error(predictions, targets))"
   ]
  },
  {
   "cell_type": "code",
   "execution_count": 26,
   "id": "66252998",
   "metadata": {},
   "outputs": [],
   "source": [
    "def predict_ratings_content(train, test, cosine_sim):\n",
    "    predicted_ratings = []\n",
    "\n",
    "    for _, row in test.iterrows():\n",
    "        user_id = row['user_id']\n",
    "        book_id = row['book_id']\n",
    "\n",
    "        # Extract ratings for the current user from the training data\n",
    "        user_ratings = train[train['user_id'] == user_id]\n",
    "\n",
    "        # Calculate the weighted sum of ratings based on user similarities\n",
    "        weighted_sum = 0\n",
    "        similarity_sum = 0\n",
    "\n",
    "        for _, rated_book in user_ratings.iterrows():\n",
    "            rated_book_id = rated_book['book_id']\n",
    "            rated_book_rating = rated_book['rating']\n",
    "\n",
    "            # Calculate similarity between the target book and already rated books\n",
    "            similarity = cosine_sim[book_id-1][rated_book_id-1]\n",
    "\n",
    "            # Add the weighted contribution to the sum\n",
    "            weighted_sum += similarity * rated_book_rating\n",
    "            similarity_sum += abs(similarity)\n",
    "\n",
    "        # Avoid division by zero\n",
    "        if similarity_sum > 0.25:\n",
    "            predicted_rating = weighted_sum / similarity_sum\n",
    "        else:\n",
    "            predicted_rating = 3\n",
    "\n",
    "        predicted_ratings.append(predicted_rating)\n",
    "\n",
    "    return predicted_ratings"
   ]
  },
  {
   "cell_type": "code",
   "execution_count": 27,
   "id": "c00fbf6e",
   "metadata": {},
   "outputs": [],
   "source": [
    "def predict_ratings_user(train, test, model):\n",
    "    predicted_ratings = []\n",
    "    \n",
    "    for index, row in test.iterrows():\n",
    "        user_id = row['user_id']\n",
    "        book_id = row['book_id']\n",
    "        rating = row['rating']\n",
    "\n",
    "        # Find similar users for the current test user\n",
    "        similar_users = find_similar_users(test[test['user_id'] == user_id], train)\n",
    "\n",
    "        predict_data = pd.DataFrame([(similar_user, book_id) for similar_user in similar_users],\n",
    "                                    columns=['user_id', 'book_id'])\n",
    "\n",
    "        # Use the model to predict ratings\n",
    "        predictions = model.predict([np.array(predict_data['user_id']), np.array(predict_data['book_id'])], verbose=0)\n",
    "\n",
    "        predicted_rating = np.mean(predictions)\n",
    "\n",
    "        # Append the predicted rating to the list\n",
    "        predicted_ratings.append(predicted_rating)\n",
    "\n",
    "\n",
    "    return predicted_ratings\n"
   ]
  },
  {
   "cell_type": "code",
   "execution_count": 28,
   "id": "3f835659",
   "metadata": {},
   "outputs": [],
   "source": [
    "def predict_ratings(train, test, model, cosine_sim):\n",
    "    \n",
    "    user_based_predict = np.array(predict_ratings_user(train, test, model))\n",
    "    content_based_predict = np.array(predict_ratings_content(train, test, cosine_sim))\n",
    "\n",
    "    # Calculate the overall rating using the specified formula\n",
    "    predict = user_based_predict * 0.6 + content_based_predict * 0.4\n",
    "    \n",
    "    return predict"
   ]
  },
  {
   "cell_type": "markdown",
   "id": "3aea4140",
   "metadata": {},
   "source": [
    "### Evaluation on test data"
   ]
  },
  {
   "cell_type": "code",
   "execution_count": 29,
   "id": "a4eadeba",
   "metadata": {},
   "outputs": [
    {
     "name": "stderr",
     "output_type": "stream",
     "text": [
      "C:\\Users\\User\\AppData\\Local\\Temp\\ipykernel_13704\\3183413927.py:6: SettingWithCopyWarning: \n",
      "A value is trying to be set on a copy of a slice from a DataFrame.\n",
      "Try using .loc[row_indexer,col_indexer] = value instead\n",
      "\n",
      "See the caveats in the documentation: https://pandas.pydata.org/pandas-docs/stable/user_guide/indexing.html#returning-a-view-versus-a-copy\n",
      "  test1['predicted_rating'] = predicted_ratings\n"
     ]
    }
   ],
   "source": [
    "test1 = test[:1000]\n",
    "\n",
    "predicted_ratings = predict_ratings(train, test1, model, cosine_sim)\n",
    "\n",
    "# Add the predicted ratings to the test_data DataFrame\n",
    "test1['predicted_rating'] = predicted_ratings"
   ]
  },
  {
   "cell_type": "code",
   "execution_count": 30,
   "id": "28e809e0",
   "metadata": {},
   "outputs": [
    {
     "name": "stdout",
     "output_type": "stream",
     "text": [
      "RMSE: 0.8994148212138502\n"
     ]
    }
   ],
   "source": [
    "rmse = calculate_rmse(test1['predicted_rating'], test1['rating'])\n",
    "print(f\"RMSE: {rmse}\")"
   ]
  },
  {
   "cell_type": "markdown",
   "id": "ec94e482",
   "metadata": {},
   "source": [
    "### Evaluation on highly rated books"
   ]
  },
  {
   "cell_type": "code",
   "execution_count": 31,
   "id": "48fc0a8d",
   "metadata": {},
   "outputs": [],
   "source": [
    "test2 = test[test[\"rating\"] > 3][:1000]\n",
    "\n",
    "predicted_ratings = predict_ratings(train, test2, model, cosine_sim)\n",
    "\n",
    "test2['predicted_rating'] = predicted_ratings"
   ]
  },
  {
   "cell_type": "code",
   "execution_count": 32,
   "id": "7c4e40db",
   "metadata": {},
   "outputs": [
    {
     "name": "stdout",
     "output_type": "stream",
     "text": [
      "RMSE: 0.7683385046537304\n"
     ]
    }
   ],
   "source": [
    "rmse = calculate_rmse(test2['predicted_rating'], test2['rating'])\n",
    "print(f\"RMSE: {rmse}\")"
   ]
  },
  {
   "cell_type": "markdown",
   "id": "2ae96eca",
   "metadata": {},
   "source": [
    "## Test"
   ]
  },
  {
   "cell_type": "code",
   "execution_count": 33,
   "id": "75b55029",
   "metadata": {},
   "outputs": [],
   "source": [
    "user_ratings = pd.DataFrame({  \n",
    "    'book_id': [1, 200, 295, 271, 12, 488, 4483],\n",
    "    'rating': [5, 5, 5, 5, 5, 5, 1]\n",
    "})"
   ]
  },
  {
   "cell_type": "code",
   "execution_count": 34,
   "id": "bcb1a1db",
   "metadata": {},
   "outputs": [
    {
     "name": "stdout",
     "output_type": "stream",
     "text": [
      "937/937 [==============================] - 2s 2ms/step\n",
      "Top 5 Recommended Books:\n"
     ]
    },
    {
     "data": {
      "text/html": [
       "<div>\n",
       "<style scoped>\n",
       "    .dataframe tbody tr th:only-of-type {\n",
       "        vertical-align: middle;\n",
       "    }\n",
       "\n",
       "    .dataframe tbody tr th {\n",
       "        vertical-align: top;\n",
       "    }\n",
       "\n",
       "    .dataframe thead th {\n",
       "        text-align: right;\n",
       "    }\n",
       "</style>\n",
       "<table border=\"1\" class=\"dataframe\">\n",
       "  <thead>\n",
       "    <tr style=\"text-align: right;\">\n",
       "      <th></th>\n",
       "      <th>authors</th>\n",
       "      <th>original_publication_year</th>\n",
       "      <th>title</th>\n",
       "    </tr>\n",
       "  </thead>\n",
       "  <tbody>\n",
       "    <tr>\n",
       "      <th>306</th>\n",
       "      <td>Patrick Rothfuss</td>\n",
       "      <td>2011.0</td>\n",
       "      <td>The Wise Man's Fear (The Kingkiller Chronicle,...</td>\n",
       "    </tr>\n",
       "    <tr>\n",
       "      <th>1312</th>\n",
       "      <td>Stephen E. Ambrose</td>\n",
       "      <td>1992.0</td>\n",
       "      <td>Band of Brothers: E Company, 506th Regiment, 1...</td>\n",
       "    </tr>\n",
       "    <tr>\n",
       "      <th>2440</th>\n",
       "      <td>Barbara Demick</td>\n",
       "      <td>2009.0</td>\n",
       "      <td>Nothing to Envy: Ordinary Lives in North Korea</td>\n",
       "    </tr>\n",
       "    <tr>\n",
       "      <th>2506</th>\n",
       "      <td>Paullina Simons</td>\n",
       "      <td>2001.0</td>\n",
       "      <td>The Bronze Horseman (The Bronze Horseman, #1)</td>\n",
       "    </tr>\n",
       "    <tr>\n",
       "      <th>9140</th>\n",
       "      <td>Brandon Sanderson</td>\n",
       "      <td>2011.0</td>\n",
       "      <td>The Way of Kings, Part 1 (The Stormlight Archi...</td>\n",
       "    </tr>\n",
       "  </tbody>\n",
       "</table>\n",
       "</div>"
      ],
      "text/plain": [
       "                 authors  original_publication_year  \\\n",
       "306     Patrick Rothfuss                     2011.0   \n",
       "1312  Stephen E. Ambrose                     1992.0   \n",
       "2440      Barbara Demick                     2009.0   \n",
       "2506     Paullina Simons                     2001.0   \n",
       "9140   Brandon Sanderson                     2011.0   \n",
       "\n",
       "                                                  title  \n",
       "306   The Wise Man's Fear (The Kingkiller Chronicle,...  \n",
       "1312  Band of Brothers: E Company, 506th Regiment, 1...  \n",
       "2440     Nothing to Envy: Ordinary Lives in North Korea  \n",
       "2506      The Bronze Horseman (The Bronze Horseman, #1)  \n",
       "9140  The Way of Kings, Part 1 (The Stormlight Archi...  "
      ]
     },
     "execution_count": 34,
     "metadata": {},
     "output_type": "execute_result"
    }
   ],
   "source": [
    "# Example: Get top 5 recommendations for the user's ratings\n",
    "top_recommendations = top_recommend_books(user_ratings, model, cosine_sim, train, books_information, 5)\n",
    "\n",
    "print(\"Top 5 Recommended Books:\")\n",
    "top_recommendations"
   ]
  }
 ],
 "metadata": {
  "kernelspec": {
   "display_name": "Python 3 (ipykernel)",
   "language": "python",
   "name": "python3"
  },
  "language_info": {
   "codemirror_mode": {
    "name": "ipython",
    "version": 3
   },
   "file_extension": ".py",
   "mimetype": "text/x-python",
   "name": "python",
   "nbconvert_exporter": "python",
   "pygments_lexer": "ipython3",
   "version": "3.9.6"
  }
 },
 "nbformat": 4,
 "nbformat_minor": 5
}
