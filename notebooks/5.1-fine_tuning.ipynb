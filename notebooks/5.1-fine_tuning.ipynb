{
 "cells": [
  {
   "cell_type": "markdown",
   "id": "4c648e80",
   "metadata": {},
   "source": [
    "# Fine tuning of the hybrid model"
   ]
  },
  {
   "cell_type": "markdown",
   "id": "46cb6041",
   "metadata": {},
   "source": [
    "## Data Loading"
   ]
  },
  {
   "cell_type": "code",
   "execution_count": 1,
   "id": "ba954c9d",
   "metadata": {},
   "outputs": [
    {
     "data": {
      "text/html": [
       "<div>\n",
       "<style scoped>\n",
       "    .dataframe tbody tr th:only-of-type {\n",
       "        vertical-align: middle;\n",
       "    }\n",
       "\n",
       "    .dataframe tbody tr th {\n",
       "        vertical-align: top;\n",
       "    }\n",
       "\n",
       "    .dataframe thead th {\n",
       "        text-align: right;\n",
       "    }\n",
       "</style>\n",
       "<table border=\"1\" class=\"dataframe\">\n",
       "  <thead>\n",
       "    <tr style=\"text-align: right;\">\n",
       "      <th></th>\n",
       "      <th>user_id</th>\n",
       "      <th>book_id</th>\n",
       "      <th>rating</th>\n",
       "    </tr>\n",
       "  </thead>\n",
       "  <tbody>\n",
       "    <tr>\n",
       "      <th>0</th>\n",
       "      <td>10714</td>\n",
       "      <td>7164</td>\n",
       "      <td>3</td>\n",
       "    </tr>\n",
       "    <tr>\n",
       "      <th>1</th>\n",
       "      <td>48091</td>\n",
       "      <td>2213</td>\n",
       "      <td>3</td>\n",
       "    </tr>\n",
       "    <tr>\n",
       "      <th>2</th>\n",
       "      <td>9809</td>\n",
       "      <td>5769</td>\n",
       "      <td>4</td>\n",
       "    </tr>\n",
       "    <tr>\n",
       "      <th>3</th>\n",
       "      <td>25191</td>\n",
       "      <td>86</td>\n",
       "      <td>5</td>\n",
       "    </tr>\n",
       "    <tr>\n",
       "      <th>4</th>\n",
       "      <td>25441</td>\n",
       "      <td>4884</td>\n",
       "      <td>3</td>\n",
       "    </tr>\n",
       "  </tbody>\n",
       "</table>\n",
       "</div>"
      ],
      "text/plain": [
       "   user_id  book_id  rating\n",
       "0    10714     7164       3\n",
       "1    48091     2213       3\n",
       "2     9809     5769       4\n",
       "3    25191       86       5\n",
       "4    25441     4884       3"
      ]
     },
     "execution_count": 1,
     "metadata": {},
     "output_type": "execute_result"
    }
   ],
   "source": [
    "import pandas as pd\n",
    "\n",
    "train = pd.read_csv('../data/interim/train.csv')\n",
    "\n",
    "train.head()"
   ]
  },
  {
   "cell_type": "code",
   "execution_count": 2,
   "id": "71b12d05",
   "metadata": {},
   "outputs": [
    {
     "data": {
      "text/html": [
       "<div>\n",
       "<style scoped>\n",
       "    .dataframe tbody tr th:only-of-type {\n",
       "        vertical-align: middle;\n",
       "    }\n",
       "\n",
       "    .dataframe tbody tr th {\n",
       "        vertical-align: top;\n",
       "    }\n",
       "\n",
       "    .dataframe thead th {\n",
       "        text-align: right;\n",
       "    }\n",
       "</style>\n",
       "<table border=\"1\" class=\"dataframe\">\n",
       "  <thead>\n",
       "    <tr style=\"text-align: right;\">\n",
       "      <th></th>\n",
       "      <th>user_id</th>\n",
       "      <th>book_id</th>\n",
       "      <th>rating</th>\n",
       "    </tr>\n",
       "  </thead>\n",
       "  <tbody>\n",
       "    <tr>\n",
       "      <th>0</th>\n",
       "      <td>42562</td>\n",
       "      <td>2757</td>\n",
       "      <td>3</td>\n",
       "    </tr>\n",
       "    <tr>\n",
       "      <th>1</th>\n",
       "      <td>43232</td>\n",
       "      <td>134</td>\n",
       "      <td>4</td>\n",
       "    </tr>\n",
       "    <tr>\n",
       "      <th>2</th>\n",
       "      <td>37244</td>\n",
       "      <td>1463</td>\n",
       "      <td>5</td>\n",
       "    </tr>\n",
       "    <tr>\n",
       "      <th>3</th>\n",
       "      <td>53366</td>\n",
       "      <td>71</td>\n",
       "      <td>2</td>\n",
       "    </tr>\n",
       "    <tr>\n",
       "      <th>4</th>\n",
       "      <td>29634</td>\n",
       "      <td>3339</td>\n",
       "      <td>4</td>\n",
       "    </tr>\n",
       "  </tbody>\n",
       "</table>\n",
       "</div>"
      ],
      "text/plain": [
       "   user_id  book_id  rating\n",
       "0    42562     2757       3\n",
       "1    43232      134       4\n",
       "2    37244     1463       5\n",
       "3    53366       71       2\n",
       "4    29634     3339       4"
      ]
     },
     "execution_count": 2,
     "metadata": {},
     "output_type": "execute_result"
    }
   ],
   "source": [
    "test = pd.read_csv('../data/interim/test.csv')\n",
    "\n",
    "test.head()"
   ]
  },
  {
   "cell_type": "code",
   "execution_count": 3,
   "id": "f5e16a01",
   "metadata": {},
   "outputs": [],
   "source": [
    "import pickle\n",
    "import os\n",
    "\n",
    "if os.path.exists('../data/interim/cosine_similarity_matrix.pkl'):\n",
    "    with open(\"../data/interim/cosine_similarity_matrix.pkl\", 'rb') as file:\n",
    "        cosine_sim = pickle.load(file)  \n",
    "else:\n",
    "    print('Not found')"
   ]
  },
  {
   "cell_type": "code",
   "execution_count": 4,
   "id": "83752f12",
   "metadata": {},
   "outputs": [
    {
     "name": "stdout",
     "output_type": "stream",
     "text": [
      "WARNING:tensorflow:From c:\\users\\user\\appdata\\local\\programs\\python\\python39\\lib\\site-packages\\keras\\src\\losses.py:2976: The name tf.losses.sparse_softmax_cross_entropy is deprecated. Please use tf.compat.v1.losses.sparse_softmax_cross_entropy instead.\n",
      "\n",
      "WARNING:tensorflow:From c:\\users\\user\\appdata\\local\\programs\\python\\python39\\lib\\site-packages\\keras\\src\\backend.py:1398: The name tf.executing_eagerly_outside_functions is deprecated. Please use tf.compat.v1.executing_eagerly_outside_functions instead.\n",
      "\n"
     ]
    }
   ],
   "source": [
    "import keras.models\n",
    "\n",
    "if os.path.exists('../models/train_user_based_model.keras'):\n",
    "    model = keras.models.load_model('../models/train_user_based_model.keras')  \n",
    "else:\n",
    "    print('Not found')"
   ]
  },
  {
   "cell_type": "markdown",
   "id": "2f87cf6e",
   "metadata": {},
   "source": [
    "## Functions for evaluation"
   ]
  },
  {
   "cell_type": "code",
   "execution_count": 5,
   "id": "1541369d",
   "metadata": {},
   "outputs": [],
   "source": [
    "from sklearn.metrics.pairwise import cosine_similarity\n",
    "import numpy as np"
   ]
  },
  {
   "cell_type": "code",
   "execution_count": 6,
   "id": "46446972",
   "metadata": {},
   "outputs": [],
   "source": [
    "from sklearn.metrics import mean_squared_error\n",
    "\n",
    "# Function to calculate Root Mean Squared Error (RMSE)\n",
    "def calculate_rmse(predictions, targets):\n",
    "    return np.sqrt(mean_squared_error(predictions, targets))"
   ]
  },
  {
   "cell_type": "code",
   "execution_count": 7,
   "id": "33bbc18f",
   "metadata": {},
   "outputs": [],
   "source": [
    "def find_similar_users(user_ratings, train):\n",
    "    # Filter train data for the specified books in user_ratings\n",
    "    selected_books = user_ratings['book_id'].values\n",
    "    train_subset = train[train['book_id'].isin(selected_books)]\n",
    "\n",
    "    # Pivot the train_subset to have users as rows and books as columns\n",
    "    user_book_matrix = train_subset.pivot_table(index='user_id', columns='book_id', values='rating', fill_value=0)\n",
    "\n",
    "    # Create a user-book matrix for the target user\n",
    "    target_user_ratings = pd.Series(user_ratings['rating'].values, index=user_ratings['book_id'])\n",
    "    target_user_matrix = pd.DataFrame(target_user_ratings).transpose()\n",
    "\n",
    "    # Calculate cosine similarity between the target user and all other users\n",
    "    similarity_scores = cosine_similarity(target_user_matrix, user_book_matrix)\n",
    "\n",
    "    # Get the top 3 most similar users\n",
    "    similar_users_indices = similarity_scores.argsort()[0, ::-1][1:4]\n",
    "    similar_users = user_book_matrix.index[similar_users_indices]\n",
    "\n",
    "    return list(similar_users)"
   ]
  },
  {
   "cell_type": "code",
   "execution_count": 8,
   "id": "84e572f2",
   "metadata": {},
   "outputs": [],
   "source": [
    "def predict_ratings_content(train, test, cosine_sim, beta):\n",
    "    predicted_ratings = []\n",
    "\n",
    "    for _, row in test.iterrows():\n",
    "        user_id = row['user_id']\n",
    "        book_id = row['book_id']\n",
    "\n",
    "        # Extract ratings for the current user from the training data\n",
    "        user_ratings = train[train['user_id'] == user_id]\n",
    "\n",
    "        # Calculate the weighted sum of ratings based on user similarities\n",
    "        weighted_sum = 0\n",
    "        similarity_sum = 0\n",
    "\n",
    "        for _, rated_book in user_ratings.iterrows():\n",
    "            rated_book_id = rated_book['book_id']\n",
    "            rated_book_rating = rated_book['rating']\n",
    "\n",
    "            # Calculate similarity between the target book and already rated books\n",
    "            similarity = cosine_sim[book_id-1][rated_book_id-1]\n",
    "\n",
    "            # Add the weighted contribution to the sum\n",
    "            weighted_sum += similarity * rated_book_rating\n",
    "            similarity_sum += abs(similarity)\n",
    "\n",
    "        # Avoid division by zero\n",
    "        if similarity_sum > beta:\n",
    "            predicted_rating = weighted_sum / similarity_sum\n",
    "        else:\n",
    "            predicted_rating = 3\n",
    "\n",
    "        predicted_ratings.append(predicted_rating)\n",
    "\n",
    "    return predicted_ratings"
   ]
  },
  {
   "cell_type": "code",
   "execution_count": 9,
   "id": "70b58a78",
   "metadata": {},
   "outputs": [],
   "source": [
    "def predict_ratings_user(train, test, model):\n",
    "    predicted_ratings = []\n",
    "    \n",
    "    for index, row in test.iterrows():\n",
    "        user_id = row['user_id']\n",
    "        book_id = row['book_id']\n",
    "        rating = row['rating']\n",
    "\n",
    "        # Find similar users for the current test user\n",
    "        similar_users = find_similar_users(test[test['user_id'] == user_id], train)\n",
    "\n",
    "        predict_data = pd.DataFrame([(similar_user, book_id) for similar_user in similar_users],\n",
    "                                    columns=['user_id', 'book_id'])\n",
    "\n",
    "        # Use the model to predict ratings\n",
    "        predictions = model.predict([np.array(predict_data['user_id']), np.array(predict_data['book_id'])], verbose=0)\n",
    "\n",
    "        predicted_rating = np.mean(predictions)\n",
    "\n",
    "        # Append the predicted rating to the list\n",
    "        predicted_ratings.append(predicted_rating)\n",
    "\n",
    "\n",
    "    return predicted_ratings"
   ]
  },
  {
   "cell_type": "code",
   "execution_count": 10,
   "id": "07a37ba8",
   "metadata": {},
   "outputs": [],
   "source": [
    "def predict_ratings(train, test, model, cosine_sim, alpha, beta):\n",
    "    \n",
    "    user_based_predict = np.array(predict_ratings_user(train, test, model))\n",
    "    content_based_predict = np.array(predict_ratings_content(train, test, cosine_sim, beta))\n",
    "\n",
    "    # Calculate the overall rating using the specified formula\n",
    "    predict = user_based_predict * alpha + content_based_predict * (1 - alpha)\n",
    "    \n",
    "    return predict"
   ]
  },
  {
   "cell_type": "markdown",
   "id": "1cda1bdf",
   "metadata": {},
   "source": [
    "## Fine tuning"
   ]
  },
  {
   "cell_type": "code",
   "execution_count": 11,
   "id": "35db945b",
   "metadata": {},
   "outputs": [],
   "source": [
    "alpha_parm = [0.4, 0.5, 0.6, 0.7]\n",
    "beta_parm = [0, 0.1, 0.25, 0.4]"
   ]
  },
  {
   "cell_type": "code",
   "execution_count": 14,
   "id": "d69164ab",
   "metadata": {},
   "outputs": [],
   "source": [
    "result = []"
   ]
  },
  {
   "cell_type": "code",
   "execution_count": 17,
   "id": "90359535",
   "metadata": {},
   "outputs": [
    {
     "name": "stderr",
     "output_type": "stream",
     "text": [
      "C:\\Users\\User\\AppData\\Local\\Temp\\ipykernel_10996\\3582265419.py:8: SettingWithCopyWarning: \n",
      "A value is trying to be set on a copy of a slice from a DataFrame.\n",
      "Try using .loc[row_indexer,col_indexer] = value instead\n",
      "\n",
      "See the caveats in the documentation: https://pandas.pydata.org/pandas-docs/stable/user_guide/indexing.html#returning-a-view-versus-a-copy\n",
      "  test_data['predicted_rating'] = predicted_ratings\n"
     ]
    },
    {
     "name": "stdout",
     "output_type": "stream",
     "text": [
      "alpha: 0.4, beta: 0, rmse: 0.8777152105171364\n"
     ]
    },
    {
     "name": "stderr",
     "output_type": "stream",
     "text": [
      "C:\\Users\\User\\AppData\\Local\\Temp\\ipykernel_10996\\3582265419.py:8: SettingWithCopyWarning: \n",
      "A value is trying to be set on a copy of a slice from a DataFrame.\n",
      "Try using .loc[row_indexer,col_indexer] = value instead\n",
      "\n",
      "See the caveats in the documentation: https://pandas.pydata.org/pandas-docs/stable/user_guide/indexing.html#returning-a-view-versus-a-copy\n",
      "  test_data['predicted_rating'] = predicted_ratings\n"
     ]
    },
    {
     "name": "stdout",
     "output_type": "stream",
     "text": [
      "alpha: 0.4, beta: 0.1, rmse: 0.8732465324108785\n"
     ]
    },
    {
     "name": "stderr",
     "output_type": "stream",
     "text": [
      "C:\\Users\\User\\AppData\\Local\\Temp\\ipykernel_10996\\3582265419.py:8: SettingWithCopyWarning: \n",
      "A value is trying to be set on a copy of a slice from a DataFrame.\n",
      "Try using .loc[row_indexer,col_indexer] = value instead\n",
      "\n",
      "See the caveats in the documentation: https://pandas.pydata.org/pandas-docs/stable/user_guide/indexing.html#returning-a-view-versus-a-copy\n",
      "  test_data['predicted_rating'] = predicted_ratings\n"
     ]
    },
    {
     "name": "stdout",
     "output_type": "stream",
     "text": [
      "alpha: 0.4, beta: 0.25, rmse: 0.8954561205857657\n"
     ]
    },
    {
     "name": "stderr",
     "output_type": "stream",
     "text": [
      "C:\\Users\\User\\AppData\\Local\\Temp\\ipykernel_10996\\3582265419.py:8: SettingWithCopyWarning: \n",
      "A value is trying to be set on a copy of a slice from a DataFrame.\n",
      "Try using .loc[row_indexer,col_indexer] = value instead\n",
      "\n",
      "See the caveats in the documentation: https://pandas.pydata.org/pandas-docs/stable/user_guide/indexing.html#returning-a-view-versus-a-copy\n",
      "  test_data['predicted_rating'] = predicted_ratings\n"
     ]
    },
    {
     "name": "stdout",
     "output_type": "stream",
     "text": [
      "alpha: 0.4, beta: 0.4, rmse: 0.9252155712385228\n"
     ]
    },
    {
     "name": "stderr",
     "output_type": "stream",
     "text": [
      "C:\\Users\\User\\AppData\\Local\\Temp\\ipykernel_10996\\3582265419.py:8: SettingWithCopyWarning: \n",
      "A value is trying to be set on a copy of a slice from a DataFrame.\n",
      "Try using .loc[row_indexer,col_indexer] = value instead\n",
      "\n",
      "See the caveats in the documentation: https://pandas.pydata.org/pandas-docs/stable/user_guide/indexing.html#returning-a-view-versus-a-copy\n",
      "  test_data['predicted_rating'] = predicted_ratings\n"
     ]
    },
    {
     "name": "stdout",
     "output_type": "stream",
     "text": [
      "alpha: 0.5, beta: 0, rmse: 0.881568837771882\n"
     ]
    },
    {
     "name": "stderr",
     "output_type": "stream",
     "text": [
      "C:\\Users\\User\\AppData\\Local\\Temp\\ipykernel_10996\\3582265419.py:8: SettingWithCopyWarning: \n",
      "A value is trying to be set on a copy of a slice from a DataFrame.\n",
      "Try using .loc[row_indexer,col_indexer] = value instead\n",
      "\n",
      "See the caveats in the documentation: https://pandas.pydata.org/pandas-docs/stable/user_guide/indexing.html#returning-a-view-versus-a-copy\n",
      "  test_data['predicted_rating'] = predicted_ratings\n"
     ]
    },
    {
     "name": "stdout",
     "output_type": "stream",
     "text": [
      "alpha: 0.5, beta: 0.1, rmse: 0.8777887625267387\n"
     ]
    },
    {
     "name": "stderr",
     "output_type": "stream",
     "text": [
      "C:\\Users\\User\\AppData\\Local\\Temp\\ipykernel_10996\\3582265419.py:8: SettingWithCopyWarning: \n",
      "A value is trying to be set on a copy of a slice from a DataFrame.\n",
      "Try using .loc[row_indexer,col_indexer] = value instead\n",
      "\n",
      "See the caveats in the documentation: https://pandas.pydata.org/pandas-docs/stable/user_guide/indexing.html#returning-a-view-versus-a-copy\n",
      "  test_data['predicted_rating'] = predicted_ratings\n"
     ]
    },
    {
     "name": "stdout",
     "output_type": "stream",
     "text": [
      "alpha: 0.5, beta: 0.25, rmse: 0.8959509501386755\n"
     ]
    },
    {
     "name": "stderr",
     "output_type": "stream",
     "text": [
      "C:\\Users\\User\\AppData\\Local\\Temp\\ipykernel_10996\\3582265419.py:8: SettingWithCopyWarning: \n",
      "A value is trying to be set on a copy of a slice from a DataFrame.\n",
      "Try using .loc[row_indexer,col_indexer] = value instead\n",
      "\n",
      "See the caveats in the documentation: https://pandas.pydata.org/pandas-docs/stable/user_guide/indexing.html#returning-a-view-versus-a-copy\n",
      "  test_data['predicted_rating'] = predicted_ratings\n"
     ]
    },
    {
     "name": "stdout",
     "output_type": "stream",
     "text": [
      "alpha: 0.5, beta: 0.4, rmse: 0.920219096738721\n"
     ]
    },
    {
     "name": "stderr",
     "output_type": "stream",
     "text": [
      "C:\\Users\\User\\AppData\\Local\\Temp\\ipykernel_10996\\3582265419.py:8: SettingWithCopyWarning: \n",
      "A value is trying to be set on a copy of a slice from a DataFrame.\n",
      "Try using .loc[row_indexer,col_indexer] = value instead\n",
      "\n",
      "See the caveats in the documentation: https://pandas.pydata.org/pandas-docs/stable/user_guide/indexing.html#returning-a-view-versus-a-copy\n",
      "  test_data['predicted_rating'] = predicted_ratings\n"
     ]
    },
    {
     "name": "stdout",
     "output_type": "stream",
     "text": [
      "alpha: 0.6, beta: 0, rmse: 0.8921320995404428\n"
     ]
    },
    {
     "name": "stderr",
     "output_type": "stream",
     "text": [
      "C:\\Users\\User\\AppData\\Local\\Temp\\ipykernel_10996\\3582265419.py:8: SettingWithCopyWarning: \n",
      "A value is trying to be set on a copy of a slice from a DataFrame.\n",
      "Try using .loc[row_indexer,col_indexer] = value instead\n",
      "\n",
      "See the caveats in the documentation: https://pandas.pydata.org/pandas-docs/stable/user_guide/indexing.html#returning-a-view-versus-a-copy\n",
      "  test_data['predicted_rating'] = predicted_ratings\n"
     ]
    },
    {
     "name": "stdout",
     "output_type": "stream",
     "text": [
      "alpha: 0.6, beta: 0.1, rmse: 0.8890867214414189\n"
     ]
    },
    {
     "name": "stderr",
     "output_type": "stream",
     "text": [
      "C:\\Users\\User\\AppData\\Local\\Temp\\ipykernel_10996\\3582265419.py:8: SettingWithCopyWarning: \n",
      "A value is trying to be set on a copy of a slice from a DataFrame.\n",
      "Try using .loc[row_indexer,col_indexer] = value instead\n",
      "\n",
      "See the caveats in the documentation: https://pandas.pydata.org/pandas-docs/stable/user_guide/indexing.html#returning-a-view-versus-a-copy\n",
      "  test_data['predicted_rating'] = predicted_ratings\n"
     ]
    },
    {
     "name": "stdout",
     "output_type": "stream",
     "text": [
      "alpha: 0.6, beta: 0.25, rmse: 0.9032336768500735\n"
     ]
    },
    {
     "name": "stderr",
     "output_type": "stream",
     "text": [
      "C:\\Users\\User\\AppData\\Local\\Temp\\ipykernel_10996\\3582265419.py:8: SettingWithCopyWarning: \n",
      "A value is trying to be set on a copy of a slice from a DataFrame.\n",
      "Try using .loc[row_indexer,col_indexer] = value instead\n",
      "\n",
      "See the caveats in the documentation: https://pandas.pydata.org/pandas-docs/stable/user_guide/indexing.html#returning-a-view-versus-a-copy\n",
      "  test_data['predicted_rating'] = predicted_ratings\n"
     ]
    },
    {
     "name": "stdout",
     "output_type": "stream",
     "text": [
      "alpha: 0.6, beta: 0.4, rmse: 0.9220790287485634\n"
     ]
    },
    {
     "name": "stderr",
     "output_type": "stream",
     "text": [
      "C:\\Users\\User\\AppData\\Local\\Temp\\ipykernel_10996\\3582265419.py:8: SettingWithCopyWarning: \n",
      "A value is trying to be set on a copy of a slice from a DataFrame.\n",
      "Try using .loc[row_indexer,col_indexer] = value instead\n",
      "\n",
      "See the caveats in the documentation: https://pandas.pydata.org/pandas-docs/stable/user_guide/indexing.html#returning-a-view-versus-a-copy\n",
      "  test_data['predicted_rating'] = predicted_ratings\n"
     ]
    },
    {
     "name": "stdout",
     "output_type": "stream",
     "text": [
      "alpha: 0.7, beta: 0, rmse: 0.9091711795063687\n"
     ]
    },
    {
     "name": "stderr",
     "output_type": "stream",
     "text": [
      "C:\\Users\\User\\AppData\\Local\\Temp\\ipykernel_10996\\3582265419.py:8: SettingWithCopyWarning: \n",
      "A value is trying to be set on a copy of a slice from a DataFrame.\n",
      "Try using .loc[row_indexer,col_indexer] = value instead\n",
      "\n",
      "See the caveats in the documentation: https://pandas.pydata.org/pandas-docs/stable/user_guide/indexing.html#returning-a-view-versus-a-copy\n",
      "  test_data['predicted_rating'] = predicted_ratings\n"
     ]
    },
    {
     "name": "stdout",
     "output_type": "stream",
     "text": [
      "alpha: 0.7, beta: 0.1, rmse: 0.9068879814699183\n"
     ]
    },
    {
     "name": "stderr",
     "output_type": "stream",
     "text": [
      "C:\\Users\\User\\AppData\\Local\\Temp\\ipykernel_10996\\3582265419.py:8: SettingWithCopyWarning: \n",
      "A value is trying to be set on a copy of a slice from a DataFrame.\n",
      "Try using .loc[row_indexer,col_indexer] = value instead\n",
      "\n",
      "See the caveats in the documentation: https://pandas.pydata.org/pandas-docs/stable/user_guide/indexing.html#returning-a-view-versus-a-copy\n",
      "  test_data['predicted_rating'] = predicted_ratings\n"
     ]
    },
    {
     "name": "stdout",
     "output_type": "stream",
     "text": [
      "alpha: 0.7, beta: 0.25, rmse: 0.9171426504424696\n",
      "alpha: 0.7, beta: 0.4, rmse: 0.9307543158684762\n"
     ]
    },
    {
     "name": "stderr",
     "output_type": "stream",
     "text": [
      "C:\\Users\\User\\AppData\\Local\\Temp\\ipykernel_10996\\3582265419.py:8: SettingWithCopyWarning: \n",
      "A value is trying to be set on a copy of a slice from a DataFrame.\n",
      "Try using .loc[row_indexer,col_indexer] = value instead\n",
      "\n",
      "See the caveats in the documentation: https://pandas.pydata.org/pandas-docs/stable/user_guide/indexing.html#returning-a-view-versus-a-copy\n",
      "  test_data['predicted_rating'] = predicted_ratings\n"
     ]
    }
   ],
   "source": [
    "for alpha in alpha_parm:\n",
    "    for beta in beta_parm:\n",
    "        \n",
    "        test_data = test[:1000]\n",
    "        \n",
    "        predicted_ratings = predict_ratings(train, test_data, model, cosine_sim, alpha, beta)\n",
    "        \n",
    "        test_data['predicted_rating'] = predicted_ratings\n",
    "        rmse = calculate_rmse(test_data['predicted_rating'], test_data['rating'])\n",
    "        \n",
    "        result.append([('alpha', alpha), ('beta', beta), ('rmse', rmse)])\n",
    "        print(f\"alpha: {alpha}, beta: {beta}, rmse: {rmse}\")"
   ]
  },
  {
   "cell_type": "code",
   "execution_count": 18,
   "id": "bf90490a",
   "metadata": {},
   "outputs": [
    {
     "data": {
      "text/plain": [
       "[[('alpha', 0.4), ('beta', 0), ('rmse', 0.8784871114945239)],\n",
       " [('alpha', 0.4), ('beta', 0), ('rmse', 0.8777152105171364)],\n",
       " [('alpha', 0.4), ('beta', 0.1), ('rmse', 0.8732465324108785)],\n",
       " [('alpha', 0.4), ('beta', 0.25), ('rmse', 0.8954561205857657)],\n",
       " [('alpha', 0.4), ('beta', 0.4), ('rmse', 0.9252155712385228)],\n",
       " [('alpha', 0.5), ('beta', 0), ('rmse', 0.881568837771882)],\n",
       " [('alpha', 0.5), ('beta', 0.1), ('rmse', 0.8777887625267387)],\n",
       " [('alpha', 0.5), ('beta', 0.25), ('rmse', 0.8959509501386755)],\n",
       " [('alpha', 0.5), ('beta', 0.4), ('rmse', 0.920219096738721)],\n",
       " [('alpha', 0.6), ('beta', 0), ('rmse', 0.8921320995404428)],\n",
       " [('alpha', 0.6), ('beta', 0.1), ('rmse', 0.8890867214414189)],\n",
       " [('alpha', 0.6), ('beta', 0.25), ('rmse', 0.9032336768500735)],\n",
       " [('alpha', 0.6), ('beta', 0.4), ('rmse', 0.9220790287485634)],\n",
       " [('alpha', 0.7), ('beta', 0), ('rmse', 0.9091711795063687)],\n",
       " [('alpha', 0.7), ('beta', 0.1), ('rmse', 0.9068879814699183)],\n",
       " [('alpha', 0.7), ('beta', 0.25), ('rmse', 0.9171426504424696)],\n",
       " [('alpha', 0.7), ('beta', 0.4), ('rmse', 0.9307543158684762)]]"
      ]
     },
     "execution_count": 18,
     "metadata": {},
     "output_type": "execute_result"
    }
   ],
   "source": [
    "result"
   ]
  },
  {
   "cell_type": "code",
   "execution_count": 22,
   "id": "8b61a155",
   "metadata": {},
   "outputs": [],
   "source": [
    "test2 = test[test[\"rating\"] > 3][:1000]\n",
    "\n",
    "predicted_ratings = predict_ratings(train, test2, model, cosine_sim, 0.4, 0.1)\n",
    "\n",
    "test2['predicted_rating'] = predicted_ratings"
   ]
  },
  {
   "cell_type": "code",
   "execution_count": 24,
   "id": "efbe6234",
   "metadata": {},
   "outputs": [
    {
     "name": "stdout",
     "output_type": "stream",
     "text": [
      "RMSE: 0.7434915922177887\n"
     ]
    }
   ],
   "source": [
    "rmse = calculate_rmse(test2['predicted_rating'], test2['rating'])\n",
    "print(f\"RMSE: {rmse}\")"
   ]
  }
 ],
 "metadata": {
  "kernelspec": {
   "display_name": "Python 3 (ipykernel)",
   "language": "python",
   "name": "python3"
  },
  "language_info": {
   "codemirror_mode": {
    "name": "ipython",
    "version": 3
   },
   "file_extension": ".py",
   "mimetype": "text/x-python",
   "name": "python",
   "nbconvert_exporter": "python",
   "pygments_lexer": "ipython3",
   "version": "3.9.6"
  }
 },
 "nbformat": 4,
 "nbformat_minor": 5
}
